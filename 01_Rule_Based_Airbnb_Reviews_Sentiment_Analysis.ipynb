{
 "cells": [
  {
   "cell_type": "code",
   "execution_count": 1,
   "metadata": {},
   "outputs": [
    {
     "name": "stdout",
     "output_type": "stream",
     "text": [
      "['/device:CPU:0', '/device:XLA_CPU:0', '/device:GPU:0', '/device:XLA_GPU:0']\n"
     ]
    }
   ],
   "source": [
    "from tensorflow.python.client import device_lib\n",
    "def get_available_devices():\n",
    "    local_device_protos = device_lib.list_local_devices()\n",
    "    return [x.name for x in local_device_protos]\n",
    "print(get_available_devices())"
   ]
  },
  {
   "cell_type": "code",
   "execution_count": 2,
   "metadata": {
    "colab": {
     "base_uri": "https://localhost:8080/",
     "height": 156
    },
    "colab_type": "code",
    "id": "GFtRO9WW9rgF",
    "outputId": "63142ea5-1693-4793-fed8-b658992a6cd5"
   },
   "outputs": [
    {
     "name": "stderr",
     "output_type": "stream",
     "text": [
      "[nltk_data] Downloading package vader_lexicon to\n",
      "[nltk_data]     /home/dickyalsyah/nltk_data...\n",
      "[nltk_data]   Package vader_lexicon is already up-to-date!\n",
      "[nltk_data] Downloading package punkt to\n",
      "[nltk_data]     /home/dickyalsyah/nltk_data...\n",
      "[nltk_data]   Package punkt is already up-to-date!\n",
      "/home/dickyalsyah/anaconda3/lib/python3.7/site-packages/tqdm/std.py:658: FutureWarning: The Panel class is removed from pandas. Accessing it from the top-level namespace will also be removed in the next version\n",
      "  from pandas import Panel\n"
     ]
    }
   ],
   "source": [
    "import tables\n",
    "import numpy as np\n",
    "import pandas as pd\n",
    "import re, string, spacy\n",
    "import nltk\n",
    "nltk.download('vader_lexicon')\n",
    "nltk.download('punkt')\n",
    "import matplotlib.pyplot as plt\n",
    "import warnings\n",
    "import seaborn as sns\n",
    "import unidecode\n",
    "import en_core_web_md\n",
    "from spacy.lang.en.stop_words import STOP_WORDS\n",
    "from nltk.sentiment.vader import SentimentIntensityAnalyzer\n",
    "from tqdm import tqdm\n",
    "\n",
    "tqdm.pandas()\n",
    "%matplotlib inline\n",
    "warnings.filterwarnings(\"ignore\")"
   ]
  },
  {
   "cell_type": "markdown",
   "metadata": {},
   "source": [
    "### Load Dataset from insideairbnb.com"
   ]
  },
  {
   "cell_type": "code",
   "execution_count": 3,
   "metadata": {
    "colab": {},
    "colab_type": "code",
    "id": "h7fHZtExAQAk"
   },
   "outputs": [],
   "source": [
    "newyork_reviews = pd.read_csv('http://data.insideairbnb.com/united-states/ny/new-york-city/2020-05-06/data/reviews.csv.gz')"
   ]
  },
  {
   "cell_type": "code",
   "execution_count": 4,
   "metadata": {
    "colab": {
     "base_uri": "https://localhost:8080/",
     "height": 204
    },
    "colab_type": "code",
    "id": "wRJhykfeAnj_",
    "outputId": "2bcb6394-2e06-48b2-b827-bcd13fcdeab5"
   },
   "outputs": [
    {
     "data": {
      "text/html": [
       "<div>\n",
       "<style scoped>\n",
       "    .dataframe tbody tr th:only-of-type {\n",
       "        vertical-align: middle;\n",
       "    }\n",
       "\n",
       "    .dataframe tbody tr th {\n",
       "        vertical-align: top;\n",
       "    }\n",
       "\n",
       "    .dataframe thead th {\n",
       "        text-align: right;\n",
       "    }\n",
       "</style>\n",
       "<table border=\"1\" class=\"dataframe\">\n",
       "  <thead>\n",
       "    <tr style=\"text-align: right;\">\n",
       "      <th></th>\n",
       "      <th>listing_id</th>\n",
       "      <th>id</th>\n",
       "      <th>date</th>\n",
       "      <th>reviewer_id</th>\n",
       "      <th>reviewer_name</th>\n",
       "      <th>comments</th>\n",
       "    </tr>\n",
       "  </thead>\n",
       "  <tbody>\n",
       "    <tr>\n",
       "      <th>0</th>\n",
       "      <td>2060</td>\n",
       "      <td>158</td>\n",
       "      <td>2008-09-22</td>\n",
       "      <td>2865</td>\n",
       "      <td>Thom</td>\n",
       "      <td>very nice neighborhood,close enough to \"A\" tra...</td>\n",
       "    </tr>\n",
       "    <tr>\n",
       "      <th>1</th>\n",
       "      <td>2595</td>\n",
       "      <td>17857</td>\n",
       "      <td>2009-11-21</td>\n",
       "      <td>50679</td>\n",
       "      <td>Jean</td>\n",
       "      <td>Notre séjour de trois nuits.\\r\\nNous avons app...</td>\n",
       "    </tr>\n",
       "    <tr>\n",
       "      <th>2</th>\n",
       "      <td>2595</td>\n",
       "      <td>19176</td>\n",
       "      <td>2009-12-05</td>\n",
       "      <td>53267</td>\n",
       "      <td>Cate</td>\n",
       "      <td>Great experience.</td>\n",
       "    </tr>\n",
       "    <tr>\n",
       "      <th>3</th>\n",
       "      <td>2595</td>\n",
       "      <td>19760</td>\n",
       "      <td>2009-12-10</td>\n",
       "      <td>38960</td>\n",
       "      <td>Anita</td>\n",
       "      <td>I've stayed with my friend at the Midtown Cast...</td>\n",
       "    </tr>\n",
       "    <tr>\n",
       "      <th>4</th>\n",
       "      <td>2595</td>\n",
       "      <td>34320</td>\n",
       "      <td>2010-04-09</td>\n",
       "      <td>71130</td>\n",
       "      <td>Kai-Uwe</td>\n",
       "      <td>We've been staying here for about 9 nights, en...</td>\n",
       "    </tr>\n",
       "  </tbody>\n",
       "</table>\n",
       "</div>"
      ],
      "text/plain": [
       "   listing_id     id        date  reviewer_id reviewer_name  \\\n",
       "0        2060    158  2008-09-22         2865          Thom   \n",
       "1        2595  17857  2009-11-21        50679          Jean   \n",
       "2        2595  19176  2009-12-05        53267          Cate   \n",
       "3        2595  19760  2009-12-10        38960         Anita   \n",
       "4        2595  34320  2010-04-09        71130       Kai-Uwe   \n",
       "\n",
       "                                            comments  \n",
       "0  very nice neighborhood,close enough to \"A\" tra...  \n",
       "1  Notre séjour de trois nuits.\\r\\nNous avons app...  \n",
       "2                                  Great experience.  \n",
       "3  I've stayed with my friend at the Midtown Cast...  \n",
       "4  We've been staying here for about 9 nights, en...  "
      ]
     },
     "execution_count": 4,
     "metadata": {},
     "output_type": "execute_result"
    }
   ],
   "source": [
    "newyork_reviews.head()"
   ]
  },
  {
   "cell_type": "code",
   "execution_count": 5,
   "metadata": {
    "colab": {
     "base_uri": "https://localhost:8080/",
     "height": 238
    },
    "colab_type": "code",
    "id": "V4DFHaYuArNa",
    "outputId": "a036e109-81d8-42fd-a464-122c5695431e"
   },
   "outputs": [
    {
     "name": "stdout",
     "output_type": "stream",
     "text": [
      "<class 'pandas.core.frame.DataFrame'>\n",
      "RangeIndex: 1226554 entries, 0 to 1226553\n",
      "Data columns (total 6 columns):\n",
      " #   Column         Non-Null Count    Dtype \n",
      "---  ------         --------------    ----- \n",
      " 0   listing_id     1226554 non-null  int64 \n",
      " 1   id             1226554 non-null  int64 \n",
      " 2   date           1226554 non-null  object\n",
      " 3   reviewer_id    1226554 non-null  int64 \n",
      " 4   reviewer_name  1226544 non-null  object\n",
      " 5   comments       1225808 non-null  object\n",
      "dtypes: int64(3), object(3)\n",
      "memory usage: 56.1+ MB\n"
     ]
    }
   ],
   "source": [
    "newyork_reviews.info()"
   ]
  },
  {
   "cell_type": "markdown",
   "metadata": {},
   "source": [
    "### Clean Our Review Text"
   ]
  },
  {
   "cell_type": "code",
   "execution_count": 6,
   "metadata": {
    "colab": {
     "base_uri": "https://localhost:8080/",
     "height": 136
    },
    "colab_type": "code",
    "id": "-nOiwDuDEW0_",
    "outputId": "033bff2e-2604-4465-e913-e2ba62242287"
   },
   "outputs": [
    {
     "data": {
      "text/plain": [
       "listing_id         0\n",
       "id                 0\n",
       "date               0\n",
       "reviewer_id        0\n",
       "reviewer_name     10\n",
       "comments         746\n",
       "dtype: int64"
      ]
     },
     "execution_count": 6,
     "metadata": {},
     "output_type": "execute_result"
    }
   ],
   "source": [
    "newyork_reviews.isnull().sum()"
   ]
  },
  {
   "cell_type": "code",
   "execution_count": 7,
   "metadata": {
    "colab": {},
    "colab_type": "code",
    "id": "YntmuRYeE0EV"
   },
   "outputs": [],
   "source": [
    "newyork_reviews.dropna(subset=['comments'], how='any', axis = 0, inplace = True)"
   ]
  },
  {
   "cell_type": "code",
   "execution_count": 8,
   "metadata": {
    "colab": {
     "base_uri": "https://localhost:8080/",
     "height": 136
    },
    "colab_type": "code",
    "id": "tGKq5oawE9ed",
    "outputId": "56466b65-ed0b-46ce-cf6e-9eea54348bc4"
   },
   "outputs": [
    {
     "data": {
      "text/plain": [
       "0"
      ]
     },
     "execution_count": 8,
     "metadata": {},
     "output_type": "execute_result"
    }
   ],
   "source": [
    "newyork_reviews['comments'].isnull().sum()"
   ]
  },
  {
   "cell_type": "code",
   "execution_count": 9,
   "metadata": {
    "colab": {},
    "colab_type": "code",
    "id": "KGtFXqbKGrpJ"
   },
   "outputs": [],
   "source": [
    "newyork_reviews['comments'] = newyork_reviews['comments'].astype('str')"
   ]
  },
  {
   "cell_type": "code",
   "execution_count": 10,
   "metadata": {
    "colab": {},
    "colab_type": "code",
    "id": "dCoa6xfswRch"
   },
   "outputs": [],
   "source": [
    "def decontracted(phrase):\n",
    "    # specific\n",
    "    phrase = phrase.lower()\n",
    "    phrase = re.sub(r\"won't\", \"will not\", phrase)\n",
    "    phrase = re.sub(r\"can\\'t\", \"can not\", phrase)\n",
    "    phrase = re.sub(r\"ain\\'t\", \"i am not\", phrase)\n",
    "    # general\n",
    "    phrase = re.sub(r\"n\\'t\", \" not\", phrase)\n",
    "    phrase = re.sub(r\"\\'re\", \" are\", phrase)\n",
    "    phrase = re.sub(r\"\\'s\", \" is\", phrase)\n",
    "    phrase = re.sub(r\"\\s+im\", \" i am\", phrase)\n",
    "    phrase = re.sub(r\"\\'d\", \" would\", phrase)\n",
    "    phrase = re.sub(r\"\\'ll\", \" will\", phrase)\n",
    "    phrase = re.sub(r\"\\'t\", \" not\", phrase)\n",
    "    phrase = re.sub(r\"\\'ve\", \" have\", phrase)\n",
    "    phrase = re.sub(r\"\\'m\", \" am\", phrase)\n",
    "    return phrase\n",
    "\n",
    "def clean_text(txt):\n",
    "    sentence = decontracted(txt)\n",
    "    sentence = re.sub(r'\\\"', r' ', sentence)\n",
    "    sentence = re.sub(r'\\s+\\.', r' ', sentence)\n",
    "    sentence = re.sub(r'\\r\\n', r' ', sentence)\n",
    "    sentence = re.sub(r'(?<=[.,])(?=[^\\s])', r' ', sentence)\n",
    "    sentence = re.sub(r'\\/|\\_|\\-|\\:|]', r' ', sentence)\n",
    "    sentence = re.sub(\"\\S*\\d\\S*\", \"\", sentence)\n",
    "    sentence = unidecode.unidecode(sentence)\n",
    "    return ' '.join(sentence.split())"
   ]
  },
  {
   "cell_type": "code",
   "execution_count": 11,
   "metadata": {},
   "outputs": [
    {
     "name": "stderr",
     "output_type": "stream",
     "text": [
      "100%|██████████| 1225808/1225808 [02:12<00:00, 9225.63it/s] \n"
     ]
    }
   ],
   "source": [
    "newyork_reviews['clean_comments'] = newyork_reviews['comments'].progress_apply(clean_text)"
   ]
  },
  {
   "cell_type": "markdown",
   "metadata": {},
   "source": [
    "### Build Sentiment with Vader Lexical Based"
   ]
  },
  {
   "cell_type": "markdown",
   "metadata": {},
   "source": [
    "Demonstrate sentiment analysis via VADER(Valence Aware Dictionary for sentiment Reasoning). Vader works by relying on a dictionary which maps lexical features to emotion intensities, called sentiment scores.\n",
    "\n",
    "Sentiment score of a text can be obtained by summing up the intensity of each word in text. In this approach, each of the words in the lexicon is rated as positive or negative, and in many cases, how positive or negative.\n",
    "Let's play around a bit and get familiar with this package:"
   ]
  },
  {
   "cell_type": "code",
   "execution_count": 12,
   "metadata": {},
   "outputs": [],
   "source": [
    "vader_compound = lambda s: (SentimentIntensityAnalyzer().polarity_scores(s))['compound']"
   ]
  },
  {
   "cell_type": "code",
   "execution_count": 13,
   "metadata": {
    "colab": {},
    "colab_type": "code",
    "id": "oKACEG61yXHD"
   },
   "outputs": [],
   "source": [
    "%%timeit\n",
    "\n",
    "# newyork_reviews['polarity'] = newyork_reviews['clean_comments'].progress_apply(vader_compound)\n",
    "# newyork_reviews.to_hdf('newyork_reviews.h5', 'newyork_reviews', mode = 'w')"
   ]
  },
  {
   "cell_type": "code",
   "execution_count": 14,
   "metadata": {},
   "outputs": [],
   "source": [
    "newyork_reviews = pd.read_hdf('newyork_reviews.h5', 'newyork_reviews')"
   ]
  },
  {
   "cell_type": "markdown",
   "metadata": {
    "colab_type": "text",
    "id": "vtYug33M8GHz"
   },
   "source": [
    "The compound score is computed by summing the valence scores of each word in the lexicon, adjusted according to the rules, and then normalized to be between -1 (most extreme negative) and +1 (most extreme positive). This is the most useful metric if you want a single unidimensional measure of sentiment for a given sentence. Calling it a 'normalized, weighted composite score' is accurate.\n",
    "\n",
    "1. positive sentiment : (compound score >= 0.05)\n",
    "2. neutral sentiment : (compound score > -0.05) and (compound score < 0.05)\n",
    "3. negative sentiment : (compound score <= -0.05)\n",
    "\n",
    "\n",
    "Source : https://github.com/cjhutto/vaderSentiment"
   ]
  },
  {
   "cell_type": "code",
   "execution_count": 15,
   "metadata": {},
   "outputs": [],
   "source": [
    "def sentiment(polarity):\n",
    "    if polarity >= 0.5:\n",
    "        return 'Positive'\n",
    "    elif polarity <= -0.5:\n",
    "        return 'Negative'\n",
    "    else:\n",
    "        return 'Neutral'"
   ]
  },
  {
   "cell_type": "code",
   "execution_count": 16,
   "metadata": {},
   "outputs": [
    {
     "name": "stderr",
     "output_type": "stream",
     "text": [
      "100%|██████████| 1225808/1225808 [00:01<00:00, 987887.75it/s] \n"
     ]
    }
   ],
   "source": [
    "newyork_reviews['sentiment'] = newyork_reviews['polarity'].progress_apply(sentiment)"
   ]
  },
  {
   "cell_type": "code",
   "execution_count": 17,
   "metadata": {
    "colab": {
     "base_uri": "https://localhost:8080/",
     "height": 34
    },
    "colab_type": "code",
    "id": "m16Y1H4azBQh",
    "outputId": "56aa1706-5e95-49b4-a77a-9c28d226cf7f"
   },
   "outputs": [],
   "source": [
    "%%time\n",
    "newyork_reviews['comment_length'] = newyork_reviews['clean_comments'].str.split().str.len()"
   ]
  },
  {
   "cell_type": "markdown",
   "metadata": {},
   "source": [
    "### Cleaning Text with No Punctuation and Stopword Remove"
   ]
  },
  {
   "cell_type": "code",
   "execution_count": 18,
   "metadata": {
    "colab": {},
    "colab_type": "code",
    "id": "0fX8He00K-wB"
   },
   "outputs": [],
   "source": [
    "nlp = en_core_web_md.load()\n",
    "punctuations = string.punctuation\n",
    "stop_words = spacy.lang.en.stop_words.STOP_WORDS\n",
    "stop_words.remove('not')\n",
    "stop_words |= {'th', 'rd', 'nd', 'etc', 'want', 'new york', 'nyc', 'ny', 've', 're', 'll', 'a', 'b', 'c', 'd', 'e', 'f', 'h', 'i', 'j', 'k', 'l', 'm',\n",
    "              'n', 'o', 'p', 'q', 'r', 's', 't', 'u', 'v', 'w', 'x', 'y', 'z'}\n",
    "    \n",
    "def pre_processor(text):\n",
    "    # Clean basic text\n",
    "    text = re.sub(r'[0-9]', r' ', text)\n",
    "    text = re.sub(r'n\\'t', r' not', text)\n",
    "    text = re.sub(r'\\'t', r' not', text)\n",
    "    text = re.sub(r'\\ |\\?|\\.|\\_|\\'|\\-|\\!|\\/|\\;|\\:', r' ', text)\n",
    "    text = unidecode.unidecode(text) # Remove accent word\n",
    "\n",
    "    # Creating token object, which is used to create documents with linguistic annotations.\n",
    "    myword = nlp(text)\n",
    "\n",
    "    # Lemmatizing each token and converting each token into lowercase\n",
    "    myword = [ word.lemma_.lower().strip() if word.lemma_ != \"-PRON-\" else word.lower_ for word in myword ]\n",
    "\n",
    "    # Removing stop words\n",
    "    \n",
    "    myword = [ word for word in myword if word not in stop_words and word not in punctuations ]\n",
    "\n",
    "    return (\" \".join(myword))"
   ]
  },
  {
   "cell_type": "code",
   "execution_count": 19,
   "metadata": {
    "colab": {
     "base_uri": "https://localhost:8080/",
     "height": 156
    },
    "colab_type": "code",
    "id": "-C1ny8T4OHCt",
    "outputId": "5c290a16-68f0-4e1f-b82a-16dc1362fae8"
   },
   "outputs": [],
   "source": [
    "%%time\n",
    "# newyork_reviews['comments_meaningful'] = newyork_reviews['comments'].progress_apply(pre_processor)\n",
    "# newyork_reviews['polarity_meaningful'] = newyork_reviews['comments_meaningful'].progress_apply(vader_compound)\n",
    "# newyork_reviews.to_hdf('newyork_reviews.h5', key = 'newyork_reviews', mode = 'w')"
   ]
  },
  {
   "cell_type": "code",
   "execution_count": 20,
   "metadata": {
    "colab": {},
    "colab_type": "code",
    "id": "048LtGKtsuwy"
   },
   "outputs": [],
   "source": [
    "newyork_reviews = pd.read_hdf('newyork_reviews.h5', 'newyork_reviews')"
   ]
  },
  {
   "cell_type": "code",
   "execution_count": 21,
   "metadata": {},
   "outputs": [
    {
     "name": "stderr",
     "output_type": "stream",
     "text": [
      "100%|██████████| 1225808/1225808 [00:01<00:00, 1025375.34it/s]\n"
     ]
    },
    {
     "name": "stdout",
     "output_type": "stream",
     "text": [
      "CPU times: user 1.2 s, sys: 14 ms, total: 1.22 s\n",
      "Wall time: 1.21 s\n"
     ]
    }
   ],
   "source": [
    "%%time\n",
    "newyork_reviews['sentiment_meaningful'] = newyork_reviews['polarity_meaningful'].progress_apply(sentiment)"
   ]
  },
  {
   "cell_type": "code",
   "execution_count": 22,
   "metadata": {},
   "outputs": [],
   "source": [
    "%%time\n",
    "# newyork_reviews['comment_meaningful_length'] = newyork_reviews['comments_meaningful'].str.split().str.len()"
   ]
  },
  {
   "cell_type": "code",
   "execution_count": 23,
   "metadata": {
    "colab": {},
    "colab_type": "code",
    "id": "A4RAVQkWtx_G"
   },
   "outputs": [
    {
     "data": {
      "text/html": [
       "<div>\n",
       "<style scoped>\n",
       "    .dataframe tbody tr th:only-of-type {\n",
       "        vertical-align: middle;\n",
       "    }\n",
       "\n",
       "    .dataframe tbody tr th {\n",
       "        vertical-align: top;\n",
       "    }\n",
       "\n",
       "    .dataframe thead th {\n",
       "        text-align: right;\n",
       "    }\n",
       "</style>\n",
       "<table border=\"1\" class=\"dataframe\">\n",
       "  <thead>\n",
       "    <tr style=\"text-align: right;\">\n",
       "      <th></th>\n",
       "      <th>listing_id</th>\n",
       "      <th>id</th>\n",
       "      <th>date</th>\n",
       "      <th>reviewer_id</th>\n",
       "      <th>reviewer_name</th>\n",
       "      <th>comments</th>\n",
       "      <th>clean_comments</th>\n",
       "      <th>polarity</th>\n",
       "      <th>sentiment</th>\n",
       "      <th>comment_length</th>\n",
       "      <th>comments_meaningful</th>\n",
       "      <th>polarity_meaningful</th>\n",
       "      <th>sentiment_meaningful</th>\n",
       "      <th>comment_meaningful_length</th>\n",
       "    </tr>\n",
       "  </thead>\n",
       "  <tbody>\n",
       "    <tr>\n",
       "      <th>0</th>\n",
       "      <td>2060</td>\n",
       "      <td>158</td>\n",
       "      <td>2008-09-22</td>\n",
       "      <td>2865</td>\n",
       "      <td>Thom</td>\n",
       "      <td>very nice neighborhood,close enough to \"A\" tra...</td>\n",
       "      <td>very nice neighborhood, close enough to a trai...</td>\n",
       "      <td>0.8928</td>\n",
       "      <td>Positive</td>\n",
       "      <td>46</td>\n",
       "      <td>nice neighborhood close train comfortable bed ...</td>\n",
       "      <td>0.9370</td>\n",
       "      <td>Positive</td>\n",
       "      <td>23</td>\n",
       "    </tr>\n",
       "    <tr>\n",
       "      <th>1</th>\n",
       "      <td>2595</td>\n",
       "      <td>17857</td>\n",
       "      <td>2009-11-21</td>\n",
       "      <td>50679</td>\n",
       "      <td>Jean</td>\n",
       "      <td>Notre séjour de trois nuits.\\r\\nNous avons app...</td>\n",
       "      <td>notre sejour de trois nuits. nous avons apprec...</td>\n",
       "      <td>-0.3612</td>\n",
       "      <td>Neutral</td>\n",
       "      <td>120</td>\n",
       "      <td>notre sejour de trois nuits nous avon apprecie...</td>\n",
       "      <td>0.2263</td>\n",
       "      <td>Neutral</td>\n",
       "      <td>110</td>\n",
       "    </tr>\n",
       "    <tr>\n",
       "      <th>2</th>\n",
       "      <td>2595</td>\n",
       "      <td>19176</td>\n",
       "      <td>2009-12-05</td>\n",
       "      <td>53267</td>\n",
       "      <td>Cate</td>\n",
       "      <td>Great experience.</td>\n",
       "      <td>great experience.</td>\n",
       "      <td>0.6249</td>\n",
       "      <td>Positive</td>\n",
       "      <td>2</td>\n",
       "      <td>great experience</td>\n",
       "      <td>0.6249</td>\n",
       "      <td>Positive</td>\n",
       "      <td>2</td>\n",
       "    </tr>\n",
       "    <tr>\n",
       "      <th>3</th>\n",
       "      <td>2595</td>\n",
       "      <td>19760</td>\n",
       "      <td>2009-12-10</td>\n",
       "      <td>38960</td>\n",
       "      <td>Anita</td>\n",
       "      <td>I've stayed with my friend at the Midtown Cast...</td>\n",
       "      <td>i have stayed with my friend at the midtown ca...</td>\n",
       "      <td>0.9248</td>\n",
       "      <td>Positive</td>\n",
       "      <td>92</td>\n",
       "      <td>stay friend midtown castle day lovely place bi...</td>\n",
       "      <td>0.9761</td>\n",
       "      <td>Positive</td>\n",
       "      <td>38</td>\n",
       "    </tr>\n",
       "    <tr>\n",
       "      <th>4</th>\n",
       "      <td>2595</td>\n",
       "      <td>34320</td>\n",
       "      <td>2010-04-09</td>\n",
       "      <td>71130</td>\n",
       "      <td>Kai-Uwe</td>\n",
       "      <td>We've been staying here for about 9 nights, en...</td>\n",
       "      <td>we have been staying here for about nights, en...</td>\n",
       "      <td>0.9229</td>\n",
       "      <td>Positive</td>\n",
       "      <td>66</td>\n",
       "      <td>stay night enjoy center city sleep short way m...</td>\n",
       "      <td>0.9042</td>\n",
       "      <td>Positive</td>\n",
       "      <td>28</td>\n",
       "    </tr>\n",
       "  </tbody>\n",
       "</table>\n",
       "</div>"
      ],
      "text/plain": [
       "   listing_id     id       date  reviewer_id reviewer_name  \\\n",
       "0        2060    158 2008-09-22         2865          Thom   \n",
       "1        2595  17857 2009-11-21        50679          Jean   \n",
       "2        2595  19176 2009-12-05        53267          Cate   \n",
       "3        2595  19760 2009-12-10        38960         Anita   \n",
       "4        2595  34320 2010-04-09        71130       Kai-Uwe   \n",
       "\n",
       "                                            comments  \\\n",
       "0  very nice neighborhood,close enough to \"A\" tra...   \n",
       "1  Notre séjour de trois nuits.\\r\\nNous avons app...   \n",
       "2                                  Great experience.   \n",
       "3  I've stayed with my friend at the Midtown Cast...   \n",
       "4  We've been staying here for about 9 nights, en...   \n",
       "\n",
       "                                      clean_comments  polarity sentiment  \\\n",
       "0  very nice neighborhood, close enough to a trai...    0.8928  Positive   \n",
       "1  notre sejour de trois nuits. nous avons apprec...   -0.3612   Neutral   \n",
       "2                                  great experience.    0.6249  Positive   \n",
       "3  i have stayed with my friend at the midtown ca...    0.9248  Positive   \n",
       "4  we have been staying here for about nights, en...    0.9229  Positive   \n",
       "\n",
       "   comment_length                                comments_meaningful  \\\n",
       "0              46  nice neighborhood close train comfortable bed ...   \n",
       "1             120  notre sejour de trois nuits nous avon apprecie...   \n",
       "2               2                                   great experience   \n",
       "3              92  stay friend midtown castle day lovely place bi...   \n",
       "4              66  stay night enjoy center city sleep short way m...   \n",
       "\n",
       "   polarity_meaningful sentiment_meaningful  comment_meaningful_length  \n",
       "0               0.9370             Positive                         23  \n",
       "1               0.2263              Neutral                        110  \n",
       "2               0.6249             Positive                          2  \n",
       "3               0.9761             Positive                         38  \n",
       "4               0.9042             Positive                         28  "
      ]
     },
     "execution_count": 23,
     "metadata": {},
     "output_type": "execute_result"
    }
   ],
   "source": [
    "newyork_reviews.head()"
   ]
  },
  {
   "cell_type": "code",
   "execution_count": 24,
   "metadata": {},
   "outputs": [],
   "source": [
    "newyork_reviews.to_hdf('newyork_reviews.h5', 'newyork_reviews', mode = 'w')"
   ]
  }
 ],
 "metadata": {
  "accelerator": "GPU",
  "colab": {
   "collapsed_sections": [],
   "name": "Copy of Rule-Based Airbnb Reviews Sentiment Analysis.ipynb",
   "provenance": []
  },
  "kernelspec": {
   "display_name": "Python [conda env:root] *",
   "language": "python",
   "name": "conda-root-py"
  },
  "language_info": {
   "codemirror_mode": {
    "name": "ipython",
    "version": 3
   },
   "file_extension": ".py",
   "mimetype": "text/x-python",
   "name": "python",
   "nbconvert_exporter": "python",
   "pygments_lexer": "ipython3",
   "version": "3.7.6"
  }
 },
 "nbformat": 4,
 "nbformat_minor": 1
}
