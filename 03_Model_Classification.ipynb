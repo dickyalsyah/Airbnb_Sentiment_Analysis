{
 "cells": [
  {
   "cell_type": "code",
   "execution_count": 1,
   "metadata": {},
   "outputs": [
    {
     "name": "stdout",
     "output_type": "stream",
     "text": [
      "['/device:CPU:0', '/device:XLA_CPU:0', '/device:GPU:0', '/device:XLA_GPU:0']\n"
     ]
    }
   ],
   "source": [
    "from tensorflow.python.client import device_lib\n",
    "def get_available_devices():\n",
    "    local_device_protos = device_lib.list_local_devices()\n",
    "    return [x.name for x in local_device_protos]\n",
    "print(get_available_devices())"
   ]
  },
  {
   "cell_type": "code",
   "execution_count": 2,
   "metadata": {},
   "outputs": [
    {
     "name": "stderr",
     "output_type": "stream",
     "text": [
      "Using TensorFlow backend.\n",
      "/home/dickyalsyah/anaconda3/lib/python3.7/site-packages/tqdm/std.py:658: FutureWarning: The Panel class is removed from pandas. Accessing it from the top-level namespace will also be removed in the next version\n",
      "  from pandas import Panel\n"
     ]
    }
   ],
   "source": [
    "import pandas as pd\n",
    "import numpy as np\n",
    "import matplotlib.pyplot as plt\n",
    "import seaborn as sns\n",
    "import keras\n",
    "import warnings\n",
    "import logging\n",
    "import pickle\n",
    "import re, spacy, string\n",
    "import nltk.data\n",
    "import en_core_web_md\n",
    "from gensim.models.word2vec import Word2Vec\n",
    "from gensim.models import Phrases, phrases, KeyedVectors\n",
    "from tqdm import tqdm\n",
    "import multiprocessing\n",
    "from sklearn.model_selection import train_test_split, StratifiedKFold, StratifiedShuffleSplit, cross_val_score, learning_curve, GridSearchCV\n",
    "from sklearn.metrics import confusion_matrix, classification_report, accuracy_score, roc_auc_score, roc_curve, mean_squared_error\n",
    "from sklearn.svm import SVC\n",
    "from sklearn.multiclass import OneVsRestClassifier\n",
    "from sklearn.naive_bayes import MultinomialNB\n",
    "from sklearn.ensemble import ExtraTreesClassifier, RandomForestClassifier\n",
    "from sklearn.linear_model import LogisticRegression\n",
    "from operator import itemgetter\n",
    "from collections import Counter, defaultdict\n",
    "from nltk.corpus import stopwords\n",
    "from sklearn.base import TransformerMixin \n",
    "from sklearn.feature_extraction.text import TfidfVectorizer, CountVectorizer, TfidfTransformer\n",
    "from sklearn.pipeline import Pipeline\n",
    "from tabulate import tabulate\n",
    "\n",
    "tqdm.pandas()\n",
    "%matplotlib inline\n",
    "warnings.filterwarnings(\"ignore\")\n",
    "logging.basicConfig(format='%(asctime)s : %(levelname)s : %(message)s', level=logging.INFO)"
   ]
  },
  {
   "cell_type": "code",
   "execution_count": 3,
   "metadata": {},
   "outputs": [],
   "source": [
    "FILE_PATH = '/home/dickyalsyah/gensim-data/GoogleNews-vectors-negative300.bin.gz'\n",
    "W2V_SIZE = 300 # Dimensionality of the hidden layer representation\n",
    "W2V_CONTEXT = 7 # Context window size (on each side)\n",
    "W2V_EPOCH = 32 \n",
    "W2V_MIN_COUNT = 20 # Minimum word count to keep a word in the vocabulary\n",
    "WORKERS = multiprocessing.cpu_count(); # Number of threads to run in parallel set to total number of cpus\n",
    "DOWNSAMPLING = 1e-3   # Downsample setting for frequent words\n",
    "WORD2VEC_MODEL = 'w2v_train_model_balance'\n",
    "WORD2VEC_MODEL_WV = 'w2v_model_wv_balance'"
   ]
  },
  {
   "cell_type": "code",
   "execution_count": 4,
   "metadata": {},
   "outputs": [
    {
     "name": "stderr",
     "output_type": "stream",
     "text": [
      "2020-06-22 11:48:35,731 : INFO : NumExpr defaulting to 8 threads.\n"
     ]
    }
   ],
   "source": [
    "newyork_reviews = pd.read_hdf('newyork_reviews_split.h5', 'newyork_reviews_split')"
   ]
  },
  {
   "cell_type": "code",
   "execution_count": 5,
   "metadata": {},
   "outputs": [
    {
     "name": "stdout",
     "output_type": "stream",
     "text": [
      "<class 'pandas.core.frame.DataFrame'>\n",
      "Int64Index: 105575 entries, 122 to 1048949\n",
      "Data columns (total 15 columns):\n",
      " #   Column                     Non-Null Count   Dtype         \n",
      "---  ------                     --------------   -----         \n",
      " 0   listing_id                 105575 non-null  int64         \n",
      " 1   id                         105575 non-null  int64         \n",
      " 2   date                       105575 non-null  datetime64[ns]\n",
      " 3   reviewer_id                105575 non-null  int64         \n",
      " 4   reviewer_name              105575 non-null  object        \n",
      " 5   comments                   105575 non-null  object        \n",
      " 6   clean_comments             105575 non-null  object        \n",
      " 7   polarity                   105575 non-null  float64       \n",
      " 8   sentiment                  105575 non-null  object        \n",
      " 9   comment_length             105575 non-null  int64         \n",
      " 10  comments_meaningful        105575 non-null  object        \n",
      " 11  polarity_meaningful        105575 non-null  float64       \n",
      " 12  sentiment_meaningful       105575 non-null  object        \n",
      " 13  comment_meaningful_length  105575 non-null  int64         \n",
      " 14  target                     105575 non-null  int64         \n",
      "dtypes: datetime64[ns](1), float64(2), int64(6), object(6)\n",
      "memory usage: 12.9+ MB\n"
     ]
    }
   ],
   "source": [
    "newyork_reviews.info()"
   ]
  },
  {
   "cell_type": "markdown",
   "metadata": {},
   "source": [
    "### Embedding Word with Word2Vec "
   ]
  },
  {
   "cell_type": "code",
   "execution_count": 6,
   "metadata": {},
   "outputs": [],
   "source": [
    "X = newyork_reviews['comments_meaningful']\n",
    "y = newyork_reviews['target']"
   ]
  },
  {
   "cell_type": "code",
   "execution_count": 7,
   "metadata": {},
   "outputs": [
    {
     "name": "stderr",
     "output_type": "stream",
     "text": [
      "100%|██████████| 105575/105575 [00:00<00:00, 157290.50it/s]\n"
     ]
    }
   ],
   "source": [
    "documents = []\n",
    "for sentence in tqdm(X):\n",
    "    documents.append(sentence.split())"
   ]
  },
  {
   "cell_type": "code",
   "execution_count": 8,
   "metadata": {},
   "outputs": [
    {
     "name": "stderr",
     "output_type": "stream",
     "text": [
      "2020-06-15 16:09:36,699 : INFO : loading projection weights from /home/dickyalsyah/gensim-data/GoogleNews-vectors-negative300.bin.gz\n",
      "2020-06-15 16:10:34,002 : INFO : loaded (3000000, 300) matrix from /home/dickyalsyah/gensim-data/GoogleNews-vectors-negative300.bin.gz\n"
     ]
    }
   ],
   "source": [
    "# Using pretrained word2vec and combine with our data\n",
    "# !wget -c \"https://s3.amazonaws.com/dl4j-distribution/GoogleNews-vectors-negative300.bin.gz\" Pretrained Model W2V\n",
    "google_wv = KeyedVectors.load_word2vec_format(FILE_PATH, binary = True)"
   ]
  },
  {
   "cell_type": "code",
   "execution_count": 9,
   "metadata": {},
   "outputs": [],
   "source": [
    "w2v_model = Word2Vec(size = W2V_SIZE, min_count = W2V_MIN_COUNT, window = W2V_CONTEXT, \n",
    "                     workers = WORKERS, sample = DOWNSAMPLING)"
   ]
  },
  {
   "cell_type": "code",
   "execution_count": 10,
   "metadata": {},
   "outputs": [
    {
     "name": "stderr",
     "output_type": "stream",
     "text": [
      "2020-06-15 16:10:37,571 : INFO : collecting all words and their counts\n",
      "2020-06-15 16:10:37,572 : INFO : PROGRESS: at sentence #0, processed 0 words, keeping 0 word types\n",
      "2020-06-15 16:10:37,743 : INFO : PROGRESS: at sentence #10000, processed 769369 words, keeping 46731 word types\n"
     ]
    },
    {
     "name": "stdout",
     "output_type": "stream",
     "text": [
      "Build vocab....\n"
     ]
    },
    {
     "name": "stderr",
     "output_type": "stream",
     "text": [
      "2020-06-15 16:10:37,894 : INFO : PROGRESS: at sentence #20000, processed 1414315 words, keeping 65146 word types\n",
      "2020-06-15 16:10:37,995 : INFO : PROGRESS: at sentence #30000, processed 1841757 words, keeping 76889 word types\n",
      "2020-06-15 16:10:38,058 : INFO : PROGRESS: at sentence #40000, processed 2087609 words, keeping 85232 word types\n",
      "2020-06-15 16:10:38,123 : INFO : PROGRESS: at sentence #50000, processed 2331493 words, keeping 93287 word types\n",
      "2020-06-15 16:10:38,185 : INFO : PROGRESS: at sentence #60000, processed 2575235 words, keeping 100652 word types\n",
      "2020-06-15 16:10:38,244 : INFO : PROGRESS: at sentence #70000, processed 2814376 words, keeping 104979 word types\n",
      "2020-06-15 16:10:38,303 : INFO : PROGRESS: at sentence #80000, processed 3060387 words, keeping 107310 word types\n",
      "2020-06-15 16:10:38,362 : INFO : PROGRESS: at sentence #90000, processed 3305764 words, keeping 109387 word types\n",
      "2020-06-15 16:10:38,418 : INFO : PROGRESS: at sentence #100000, processed 3548140 words, keeping 111313 word types\n",
      "2020-06-15 16:10:38,451 : INFO : collected 112243 word types from a corpus of 3684108 raw words and 105575 sentences\n",
      "2020-06-15 16:10:38,451 : INFO : Loading a fresh vocabulary\n",
      "2020-06-15 16:10:38,512 : INFO : effective_min_count=20 retains 10981 unique words (9% of original 112243, drops 101262)\n",
      "2020-06-15 16:10:38,512 : INFO : effective_min_count=20 leaves 3413274 word corpus (92% of original 3684108, drops 270834)\n",
      "2020-06-15 16:10:38,545 : INFO : deleting the raw counts dictionary of 112243 items\n",
      "2020-06-15 16:10:38,547 : INFO : sample=0.001 downsamples 47 most-common words\n",
      "2020-06-15 16:10:38,548 : INFO : downsampling leaves estimated 3097167 word corpus (90.7% of prior 3413274)\n",
      "2020-06-15 16:10:38,571 : INFO : estimated required memory for 10981 words and 300 dimensions: 31844900 bytes\n",
      "2020-06-15 16:10:38,571 : INFO : resetting layer weights\n",
      "2020-06-15 16:10:41,399 : INFO : collecting all words and their counts\n",
      "2020-06-15 16:10:41,400 : INFO : PROGRESS: at sentence #0, processed 0 words, keeping 0 word types\n",
      "2020-06-15 16:10:43,132 : INFO : collected 3000000 word types from a corpus of 3000000 raw words and 1 sentences\n",
      "2020-06-15 16:10:43,133 : INFO : Updating model with new vocabulary\n",
      "2020-06-15 16:10:44,164 : INFO : New added 0 unique words (0% of original 3000000) and increased the count of 0 pre-existing words (0% of original 3000000)\n",
      "2020-06-15 16:10:44,165 : INFO : deleting the raw counts dictionary of 3000000 items\n",
      "2020-06-15 16:10:44,227 : INFO : sample=0.001 downsamples 0 most-common words\n",
      "2020-06-15 16:10:44,227 : INFO : downsampling leaves estimated 0 word corpus (0.0% of prior 0)\n",
      "2020-06-15 16:10:44,247 : INFO : estimated required memory for 10981 words and 300 dimensions: 31844900 bytes\n",
      "2020-06-15 16:10:44,248 : INFO : updating layer weights\n",
      "2020-06-15 16:10:44,303 : INFO : loading projection weights from /home/dickyalsyah/gensim-data/GoogleNews-vectors-negative300.bin.gz\n",
      "2020-06-15 16:12:26,586 : INFO : merged 6480 vectors into (10981, 300) matrix from /home/dickyalsyah/gensim-data/GoogleNews-vectors-negative300.bin.gz\n"
     ]
    },
    {
     "name": "stdout",
     "output_type": "stream",
     "text": [
      "CPU times: user 1min 47s, sys: 1.16 s, total: 1min 49s\n",
      "Wall time: 1min 49s\n"
     ]
    }
   ],
   "source": [
    "%%time\n",
    "\n",
    "# Initializing the build vocab from our data train and pretrained\n",
    "print(\"Build vocab....\")\n",
    "\n",
    "w2v_model.build_vocab(documents)\n",
    "\n",
    "training_examples_count = w2v_model.corpus_count\n",
    "\n",
    "w2v_model.build_vocab([list(google_wv.vocab.keys())], update = True)\n",
    "\n",
    "w2v_model.intersect_word2vec_format(FILE_PATH, binary = True, lockf = 1.0)"
   ]
  },
  {
   "cell_type": "code",
   "execution_count": 11,
   "metadata": {},
   "outputs": [
    {
     "name": "stdout",
     "output_type": "stream",
     "text": [
      "Vocab size 10981\n"
     ]
    }
   ],
   "source": [
    "words = w2v_model.wv.vocab.keys()\n",
    "vocab_size = len(words)\n",
    "print(\"Vocab size\", vocab_size)"
   ]
  },
  {
   "cell_type": "code",
   "execution_count": 12,
   "metadata": {},
   "outputs": [
    {
     "name": "stderr",
     "output_type": "stream",
     "text": [
      "2020-06-15 16:12:50,226 : INFO : training model with 8 workers on 10981 vocabulary and 300 features, using sg=0 hs=0 sample=0.001 negative=5 window=7\n"
     ]
    },
    {
     "name": "stdout",
     "output_type": "stream",
     "text": [
      "Training model....\n"
     ]
    },
    {
     "name": "stderr",
     "output_type": "stream",
     "text": [
      "2020-06-15 16:12:51,239 : INFO : EPOCH 1 - PROGRESS: at 17.68% examples, 1115217 words/s, in_qsize 15, out_qsize 0\n",
      "2020-06-15 16:12:52,241 : INFO : EPOCH 1 - PROGRESS: at 63.31% examples, 1138628 words/s, in_qsize 15, out_qsize 0\n",
      "2020-06-15 16:12:52,890 : INFO : worker thread finished; awaiting finish of 7 more threads\n",
      "2020-06-15 16:12:52,892 : INFO : worker thread finished; awaiting finish of 6 more threads\n",
      "2020-06-15 16:12:52,902 : INFO : worker thread finished; awaiting finish of 5 more threads\n",
      "2020-06-15 16:12:52,905 : INFO : worker thread finished; awaiting finish of 4 more threads\n",
      "2020-06-15 16:12:52,909 : INFO : worker thread finished; awaiting finish of 3 more threads\n",
      "2020-06-15 16:12:52,915 : INFO : worker thread finished; awaiting finish of 2 more threads\n",
      "2020-06-15 16:12:52,916 : INFO : worker thread finished; awaiting finish of 1 more threads\n",
      "2020-06-15 16:12:52,918 : INFO : worker thread finished; awaiting finish of 0 more threads\n",
      "2020-06-15 16:12:52,918 : INFO : EPOCH - 1 : training on 3684108 raw words (3096957 effective words) took 2.7s, 1153675 effective words/s\n",
      "2020-06-15 16:12:53,933 : INFO : EPOCH 2 - PROGRESS: at 19.53% examples, 1212504 words/s, in_qsize 15, out_qsize 0\n",
      "2020-06-15 16:12:54,934 : INFO : EPOCH 2 - PROGRESS: at 69.20% examples, 1201375 words/s, in_qsize 16, out_qsize 0\n",
      "2020-06-15 16:12:55,408 : INFO : worker thread finished; awaiting finish of 7 more threads\n",
      "2020-06-15 16:12:55,413 : INFO : worker thread finished; awaiting finish of 6 more threads\n",
      "2020-06-15 16:12:55,419 : INFO : worker thread finished; awaiting finish of 5 more threads\n",
      "2020-06-15 16:12:55,427 : INFO : worker thread finished; awaiting finish of 4 more threads\n",
      "2020-06-15 16:12:55,433 : INFO : worker thread finished; awaiting finish of 3 more threads\n",
      "2020-06-15 16:12:55,434 : INFO : worker thread finished; awaiting finish of 2 more threads\n",
      "2020-06-15 16:12:55,436 : INFO : worker thread finished; awaiting finish of 1 more threads\n",
      "2020-06-15 16:12:55,439 : INFO : worker thread finished; awaiting finish of 0 more threads\n",
      "2020-06-15 16:12:55,440 : INFO : EPOCH - 2 : training on 3684108 raw words (3096642 effective words) took 2.5s, 1230986 effective words/s\n",
      "2020-06-15 16:12:56,453 : INFO : EPOCH 3 - PROGRESS: at 19.53% examples, 1213341 words/s, in_qsize 16, out_qsize 0\n",
      "2020-06-15 16:12:57,461 : INFO : EPOCH 3 - PROGRESS: at 70.32% examples, 1210423 words/s, in_qsize 15, out_qsize 0\n",
      "2020-06-15 16:12:57,955 : INFO : worker thread finished; awaiting finish of 7 more threads\n",
      "2020-06-15 16:12:57,960 : INFO : worker thread finished; awaiting finish of 6 more threads\n",
      "2020-06-15 16:12:57,967 : INFO : worker thread finished; awaiting finish of 5 more threads\n",
      "2020-06-15 16:12:57,974 : INFO : worker thread finished; awaiting finish of 4 more threads\n",
      "2020-06-15 16:12:57,980 : INFO : worker thread finished; awaiting finish of 3 more threads\n",
      "2020-06-15 16:12:57,982 : INFO : worker thread finished; awaiting finish of 2 more threads\n",
      "2020-06-15 16:12:57,988 : INFO : worker thread finished; awaiting finish of 1 more threads\n",
      "2020-06-15 16:12:57,988 : INFO : worker thread finished; awaiting finish of 0 more threads\n",
      "2020-06-15 16:12:57,989 : INFO : EPOCH - 3 : training on 3684108 raw words (3096728 effective words) took 2.5s, 1217313 effective words/s\n",
      "2020-06-15 16:12:58,996 : INFO : EPOCH 4 - PROGRESS: at 19.08% examples, 1197109 words/s, in_qsize 16, out_qsize 0\n",
      "2020-06-15 16:13:00,001 : INFO : EPOCH 4 - PROGRESS: at 67.59% examples, 1186743 words/s, in_qsize 14, out_qsize 1\n",
      "2020-06-15 16:13:00,565 : INFO : worker thread finished; awaiting finish of 7 more threads\n",
      "2020-06-15 16:13:00,578 : INFO : worker thread finished; awaiting finish of 6 more threads\n",
      "2020-06-15 16:13:00,582 : INFO : worker thread finished; awaiting finish of 5 more threads\n",
      "2020-06-15 16:13:00,586 : INFO : worker thread finished; awaiting finish of 4 more threads\n",
      "2020-06-15 16:13:00,595 : INFO : worker thread finished; awaiting finish of 3 more threads\n",
      "2020-06-15 16:13:00,599 : INFO : worker thread finished; awaiting finish of 2 more threads\n",
      "2020-06-15 16:13:00,600 : INFO : worker thread finished; awaiting finish of 1 more threads\n",
      "2020-06-15 16:13:00,602 : INFO : worker thread finished; awaiting finish of 0 more threads\n",
      "2020-06-15 16:13:00,602 : INFO : EPOCH - 4 : training on 3684108 raw words (3096919 effective words) took 2.6s, 1188231 effective words/s\n",
      "2020-06-15 16:13:01,616 : INFO : EPOCH 5 - PROGRESS: at 18.63% examples, 1162147 words/s, in_qsize 16, out_qsize 0\n",
      "2020-06-15 16:13:02,623 : INFO : EPOCH 5 - PROGRESS: at 66.45% examples, 1168277 words/s, in_qsize 14, out_qsize 1\n",
      "2020-06-15 16:13:03,194 : INFO : worker thread finished; awaiting finish of 7 more threads\n",
      "2020-06-15 16:13:03,197 : INFO : worker thread finished; awaiting finish of 6 more threads\n",
      "2020-06-15 16:13:03,201 : INFO : worker thread finished; awaiting finish of 5 more threads\n",
      "2020-06-15 16:13:03,215 : INFO : worker thread finished; awaiting finish of 4 more threads\n",
      "2020-06-15 16:13:03,217 : INFO : worker thread finished; awaiting finish of 3 more threads\n",
      "2020-06-15 16:13:03,219 : INFO : worker thread finished; awaiting finish of 2 more threads\n",
      "2020-06-15 16:13:03,220 : INFO : worker thread finished; awaiting finish of 1 more threads\n",
      "2020-06-15 16:13:03,221 : INFO : worker thread finished; awaiting finish of 0 more threads\n",
      "2020-06-15 16:13:03,222 : INFO : EPOCH - 5 : training on 3684108 raw words (3097400 effective words) took 2.6s, 1184839 effective words/s\n",
      "2020-06-15 16:13:04,232 : INFO : EPOCH 6 - PROGRESS: at 19.39% examples, 1210302 words/s, in_qsize 15, out_qsize 0\n",
      "2020-06-15 16:13:05,237 : INFO : EPOCH 6 - PROGRESS: at 69.95% examples, 1210156 words/s, in_qsize 14, out_qsize 1\n",
      "2020-06-15 16:13:05,733 : INFO : worker thread finished; awaiting finish of 7 more threads\n",
      "2020-06-15 16:13:05,738 : INFO : worker thread finished; awaiting finish of 6 more threads\n",
      "2020-06-15 16:13:05,744 : INFO : worker thread finished; awaiting finish of 5 more threads\n",
      "2020-06-15 16:13:05,747 : INFO : worker thread finished; awaiting finish of 4 more threads\n",
      "2020-06-15 16:13:05,755 : INFO : worker thread finished; awaiting finish of 3 more threads\n",
      "2020-06-15 16:13:05,757 : INFO : worker thread finished; awaiting finish of 2 more threads\n",
      "2020-06-15 16:13:05,761 : INFO : worker thread finished; awaiting finish of 1 more threads\n",
      "2020-06-15 16:13:05,763 : INFO : worker thread finished; awaiting finish of 0 more threads\n",
      "2020-06-15 16:13:05,764 : INFO : EPOCH - 6 : training on 3684108 raw words (3096942 effective words) took 2.5s, 1221511 effective words/s\n",
      "2020-06-15 16:13:06,775 : INFO : EPOCH 7 - PROGRESS: at 19.24% examples, 1198731 words/s, in_qsize 15, out_qsize 0\n",
      "2020-06-15 16:13:07,790 : INFO : EPOCH 7 - PROGRESS: at 70.68% examples, 1211475 words/s, in_qsize 15, out_qsize 0\n",
      "2020-06-15 16:13:08,264 : INFO : worker thread finished; awaiting finish of 7 more threads\n",
      "2020-06-15 16:13:08,274 : INFO : worker thread finished; awaiting finish of 6 more threads\n",
      "2020-06-15 16:13:08,283 : INFO : worker thread finished; awaiting finish of 5 more threads\n",
      "2020-06-15 16:13:08,289 : INFO : worker thread finished; awaiting finish of 4 more threads\n",
      "2020-06-15 16:13:08,292 : INFO : worker thread finished; awaiting finish of 3 more threads\n",
      "2020-06-15 16:13:08,294 : INFO : worker thread finished; awaiting finish of 2 more threads\n",
      "2020-06-15 16:13:08,303 : INFO : worker thread finished; awaiting finish of 1 more threads\n",
      "2020-06-15 16:13:08,309 : INFO : worker thread finished; awaiting finish of 0 more threads\n",
      "2020-06-15 16:13:08,309 : INFO : EPOCH - 7 : training on 3684108 raw words (3096837 effective words) took 2.5s, 1219317 effective words/s\n",
      "2020-06-15 16:13:09,320 : INFO : EPOCH 8 - PROGRESS: at 19.08% examples, 1191553 words/s, in_qsize 14, out_qsize 1\n",
      "2020-06-15 16:13:10,334 : INFO : EPOCH 8 - PROGRESS: at 69.57% examples, 1200464 words/s, in_qsize 15, out_qsize 0\n",
      "2020-06-15 16:13:10,841 : INFO : worker thread finished; awaiting finish of 7 more threads\n",
      "2020-06-15 16:13:10,842 : INFO : worker thread finished; awaiting finish of 6 more threads\n",
      "2020-06-15 16:13:10,849 : INFO : worker thread finished; awaiting finish of 5 more threads\n",
      "2020-06-15 16:13:10,854 : INFO : worker thread finished; awaiting finish of 4 more threads\n",
      "2020-06-15 16:13:10,864 : INFO : worker thread finished; awaiting finish of 3 more threads\n",
      "2020-06-15 16:13:10,867 : INFO : worker thread finished; awaiting finish of 2 more threads\n",
      "2020-06-15 16:13:10,869 : INFO : worker thread finished; awaiting finish of 1 more threads\n",
      "2020-06-15 16:13:10,875 : INFO : worker thread finished; awaiting finish of 0 more threads\n",
      "2020-06-15 16:13:10,875 : INFO : EPOCH - 8 : training on 3684108 raw words (3097062 effective words) took 2.6s, 1209843 effective words/s\n",
      "2020-06-15 16:13:11,890 : INFO : EPOCH 9 - PROGRESS: at 19.08% examples, 1187677 words/s, in_qsize 15, out_qsize 0\n",
      "2020-06-15 16:13:12,895 : INFO : EPOCH 9 - PROGRESS: at 68.79% examples, 1194938 words/s, in_qsize 15, out_qsize 0\n",
      "2020-06-15 16:13:13,425 : INFO : worker thread finished; awaiting finish of 7 more threads\n",
      "2020-06-15 16:13:13,439 : INFO : worker thread finished; awaiting finish of 6 more threads\n",
      "2020-06-15 16:13:13,442 : INFO : worker thread finished; awaiting finish of 5 more threads\n",
      "2020-06-15 16:13:13,451 : INFO : worker thread finished; awaiting finish of 4 more threads\n",
      "2020-06-15 16:13:13,452 : INFO : worker thread finished; awaiting finish of 3 more threads\n",
      "2020-06-15 16:13:13,456 : INFO : worker thread finished; awaiting finish of 2 more threads\n",
      "2020-06-15 16:13:13,458 : INFO : worker thread finished; awaiting finish of 1 more threads\n",
      "2020-06-15 16:13:13,460 : INFO : worker thread finished; awaiting finish of 0 more threads\n",
      "2020-06-15 16:13:13,461 : INFO : EPOCH - 9 : training on 3684108 raw words (3097270 effective words) took 2.6s, 1200986 effective words/s\n",
      "2020-06-15 16:13:14,476 : INFO : EPOCH 10 - PROGRESS: at 18.92% examples, 1177633 words/s, in_qsize 15, out_qsize 0\n",
      "2020-06-15 16:13:15,485 : INFO : EPOCH 10 - PROGRESS: at 68.00% examples, 1183214 words/s, in_qsize 16, out_qsize 0\n",
      "2020-06-15 16:13:16,024 : INFO : worker thread finished; awaiting finish of 7 more threads\n",
      "2020-06-15 16:13:16,031 : INFO : worker thread finished; awaiting finish of 6 more threads\n",
      "2020-06-15 16:13:16,032 : INFO : worker thread finished; awaiting finish of 5 more threads\n",
      "2020-06-15 16:13:16,038 : INFO : worker thread finished; awaiting finish of 4 more threads\n",
      "2020-06-15 16:13:16,039 : INFO : worker thread finished; awaiting finish of 3 more threads\n",
      "2020-06-15 16:13:16,055 : INFO : worker thread finished; awaiting finish of 2 more threads\n",
      "2020-06-15 16:13:16,056 : INFO : worker thread finished; awaiting finish of 1 more threads\n",
      "2020-06-15 16:13:16,057 : INFO : worker thread finished; awaiting finish of 0 more threads\n",
      "2020-06-15 16:13:16,058 : INFO : EPOCH - 10 : training on 3684108 raw words (3097498 effective words) took 2.6s, 1195215 effective words/s\n",
      "2020-06-15 16:13:17,070 : INFO : EPOCH 11 - PROGRESS: at 18.92% examples, 1185259 words/s, in_qsize 16, out_qsize 1\n",
      "2020-06-15 16:13:18,078 : INFO : EPOCH 11 - PROGRESS: at 68.02% examples, 1187884 words/s, in_qsize 16, out_qsize 0\n",
      "2020-06-15 16:13:18,612 : INFO : worker thread finished; awaiting finish of 7 more threads\n",
      "2020-06-15 16:13:18,620 : INFO : worker thread finished; awaiting finish of 6 more threads\n",
      "2020-06-15 16:13:18,621 : INFO : worker thread finished; awaiting finish of 5 more threads\n",
      "2020-06-15 16:13:18,627 : INFO : worker thread finished; awaiting finish of 4 more threads\n",
      "2020-06-15 16:13:18,636 : INFO : worker thread finished; awaiting finish of 3 more threads\n",
      "2020-06-15 16:13:18,640 : INFO : worker thread finished; awaiting finish of 2 more threads\n",
      "2020-06-15 16:13:18,641 : INFO : worker thread finished; awaiting finish of 1 more threads\n",
      "2020-06-15 16:13:18,642 : INFO : worker thread finished; awaiting finish of 0 more threads\n",
      "2020-06-15 16:13:18,643 : INFO : EPOCH - 11 : training on 3684108 raw words (3097419 effective words) took 2.6s, 1202688 effective words/s\n",
      "2020-06-15 16:13:19,650 : INFO : EPOCH 12 - PROGRESS: at 18.63% examples, 1171653 words/s, in_qsize 15, out_qsize 0\n",
      "2020-06-15 16:13:20,650 : INFO : EPOCH 12 - PROGRESS: at 67.25% examples, 1184805 words/s, in_qsize 16, out_qsize 1\n",
      "2020-06-15 16:13:21,208 : INFO : worker thread finished; awaiting finish of 7 more threads\n",
      "2020-06-15 16:13:21,213 : INFO : worker thread finished; awaiting finish of 6 more threads\n",
      "2020-06-15 16:13:21,215 : INFO : worker thread finished; awaiting finish of 5 more threads\n",
      "2020-06-15 16:13:21,217 : INFO : worker thread finished; awaiting finish of 4 more threads\n",
      "2020-06-15 16:13:21,226 : INFO : worker thread finished; awaiting finish of 3 more threads\n",
      "2020-06-15 16:13:21,229 : INFO : worker thread finished; awaiting finish of 2 more threads\n",
      "2020-06-15 16:13:21,233 : INFO : worker thread finished; awaiting finish of 1 more threads\n",
      "2020-06-15 16:13:21,237 : INFO : worker thread finished; awaiting finish of 0 more threads\n",
      "2020-06-15 16:13:21,238 : INFO : EPOCH - 12 : training on 3684108 raw words (3096967 effective words) took 2.6s, 1196526 effective words/s\n",
      "2020-06-15 16:13:22,256 : INFO : EPOCH 13 - PROGRESS: at 19.08% examples, 1183468 words/s, in_qsize 15, out_qsize 0\n",
      "2020-06-15 16:13:23,264 : INFO : EPOCH 13 - PROGRESS: at 67.22% examples, 1174088 words/s, in_qsize 15, out_qsize 0\n",
      "2020-06-15 16:13:23,825 : INFO : worker thread finished; awaiting finish of 7 more threads\n",
      "2020-06-15 16:13:23,827 : INFO : worker thread finished; awaiting finish of 6 more threads\n",
      "2020-06-15 16:13:23,833 : INFO : worker thread finished; awaiting finish of 5 more threads\n",
      "2020-06-15 16:13:23,838 : INFO : worker thread finished; awaiting finish of 4 more threads\n",
      "2020-06-15 16:13:23,846 : INFO : worker thread finished; awaiting finish of 3 more threads\n",
      "2020-06-15 16:13:23,849 : INFO : worker thread finished; awaiting finish of 2 more threads\n",
      "2020-06-15 16:13:23,850 : INFO : worker thread finished; awaiting finish of 1 more threads\n",
      "2020-06-15 16:13:23,856 : INFO : worker thread finished; awaiting finish of 0 more threads\n",
      "2020-06-15 16:13:23,857 : INFO : EPOCH - 13 : training on 3684108 raw words (3097422 effective words) took 2.6s, 1185612 effective words/s\n",
      "2020-06-15 16:13:24,875 : INFO : EPOCH 14 - PROGRESS: at 19.08% examples, 1183531 words/s, in_qsize 15, out_qsize 0\n",
      "2020-06-15 16:13:25,875 : INFO : EPOCH 14 - PROGRESS: at 67.22% examples, 1178441 words/s, in_qsize 16, out_qsize 0\n",
      "2020-06-15 16:13:26,424 : INFO : worker thread finished; awaiting finish of 7 more threads\n",
      "2020-06-15 16:13:26,427 : INFO : worker thread finished; awaiting finish of 6 more threads\n",
      "2020-06-15 16:13:26,433 : INFO : worker thread finished; awaiting finish of 5 more threads\n",
      "2020-06-15 16:13:26,434 : INFO : worker thread finished; awaiting finish of 4 more threads\n",
      "2020-06-15 16:13:26,448 : INFO : worker thread finished; awaiting finish of 3 more threads\n",
      "2020-06-15 16:13:26,449 : INFO : worker thread finished; awaiting finish of 2 more threads\n",
      "2020-06-15 16:13:26,450 : INFO : worker thread finished; awaiting finish of 1 more threads\n",
      "2020-06-15 16:13:26,455 : INFO : worker thread finished; awaiting finish of 0 more threads\n",
      "2020-06-15 16:13:26,455 : INFO : EPOCH - 14 : training on 3684108 raw words (3096180 effective words) took 2.6s, 1194606 effective words/s\n",
      "2020-06-15 16:13:27,463 : INFO : EPOCH 15 - PROGRESS: at 18.78% examples, 1178263 words/s, in_qsize 14, out_qsize 0\n",
      "2020-06-15 16:13:28,468 : INFO : EPOCH 15 - PROGRESS: at 65.64% examples, 1164189 words/s, in_qsize 16, out_qsize 2\n",
      "2020-06-15 16:13:29,045 : INFO : worker thread finished; awaiting finish of 7 more threads\n",
      "2020-06-15 16:13:29,046 : INFO : worker thread finished; awaiting finish of 6 more threads\n",
      "2020-06-15 16:13:29,051 : INFO : worker thread finished; awaiting finish of 5 more threads\n",
      "2020-06-15 16:13:29,062 : INFO : worker thread finished; awaiting finish of 4 more threads\n",
      "2020-06-15 16:13:29,063 : INFO : worker thread finished; awaiting finish of 3 more threads\n",
      "2020-06-15 16:13:29,069 : INFO : worker thread finished; awaiting finish of 2 more threads\n",
      "2020-06-15 16:13:29,070 : INFO : worker thread finished; awaiting finish of 1 more threads\n",
      "2020-06-15 16:13:29,074 : INFO : worker thread finished; awaiting finish of 0 more threads\n",
      "2020-06-15 16:13:29,074 : INFO : EPOCH - 15 : training on 3684108 raw words (3096769 effective words) took 2.6s, 1184769 effective words/s\n",
      "2020-06-15 16:13:30,081 : INFO : EPOCH 16 - PROGRESS: at 19.23% examples, 1204794 words/s, in_qsize 15, out_qsize 0\n",
      "2020-06-15 16:13:31,091 : INFO : EPOCH 16 - PROGRESS: at 69.17% examples, 1200423 words/s, in_qsize 16, out_qsize 0\n",
      "2020-06-15 16:13:31,597 : INFO : worker thread finished; awaiting finish of 7 more threads\n",
      "2020-06-15 16:13:31,599 : INFO : worker thread finished; awaiting finish of 6 more threads\n",
      "2020-06-15 16:13:31,608 : INFO : worker thread finished; awaiting finish of 5 more threads\n",
      "2020-06-15 16:13:31,615 : INFO : worker thread finished; awaiting finish of 4 more threads\n",
      "2020-06-15 16:13:31,620 : INFO : worker thread finished; awaiting finish of 3 more threads\n",
      "2020-06-15 16:13:31,623 : INFO : worker thread finished; awaiting finish of 2 more threads\n",
      "2020-06-15 16:13:31,624 : INFO : worker thread finished; awaiting finish of 1 more threads\n",
      "2020-06-15 16:13:31,625 : INFO : worker thread finished; awaiting finish of 0 more threads\n",
      "2020-06-15 16:13:31,626 : INFO : EPOCH - 16 : training on 3684108 raw words (3096143 effective words) took 2.5s, 1216468 effective words/s\n",
      "2020-06-15 16:13:32,633 : INFO : EPOCH 17 - PROGRESS: at 20.03% examples, 1247219 words/s, in_qsize 14, out_qsize 1\n",
      "2020-06-15 16:13:33,635 : INFO : EPOCH 17 - PROGRESS: at 71.80% examples, 1235251 words/s, in_qsize 15, out_qsize 0\n",
      "2020-06-15 16:13:34,088 : INFO : worker thread finished; awaiting finish of 7 more threads\n",
      "2020-06-15 16:13:34,093 : INFO : worker thread finished; awaiting finish of 6 more threads\n",
      "2020-06-15 16:13:34,098 : INFO : worker thread finished; awaiting finish of 5 more threads\n",
      "2020-06-15 16:13:34,104 : INFO : worker thread finished; awaiting finish of 4 more threads\n",
      "2020-06-15 16:13:34,110 : INFO : worker thread finished; awaiting finish of 3 more threads\n",
      "2020-06-15 16:13:34,112 : INFO : worker thread finished; awaiting finish of 2 more threads\n",
      "2020-06-15 16:13:34,117 : INFO : worker thread finished; awaiting finish of 1 more threads\n",
      "2020-06-15 16:13:34,122 : INFO : worker thread finished; awaiting finish of 0 more threads\n",
      "2020-06-15 16:13:34,123 : INFO : EPOCH - 17 : training on 3684108 raw words (3096914 effective words) took 2.5s, 1243261 effective words/s\n",
      "2020-06-15 16:13:35,140 : INFO : EPOCH 18 - PROGRESS: at 19.55% examples, 1209909 words/s, in_qsize 14, out_qsize 1\n",
      "2020-06-15 16:13:36,149 : INFO : EPOCH 18 - PROGRESS: at 69.57% examples, 1200153 words/s, in_qsize 15, out_qsize 0\n",
      "2020-06-15 16:13:36,635 : INFO : worker thread finished; awaiting finish of 7 more threads\n",
      "2020-06-15 16:13:36,636 : INFO : worker thread finished; awaiting finish of 6 more threads\n",
      "2020-06-15 16:13:36,653 : INFO : worker thread finished; awaiting finish of 5 more threads\n",
      "2020-06-15 16:13:36,659 : INFO : worker thread finished; awaiting finish of 4 more threads\n",
      "2020-06-15 16:13:36,662 : INFO : worker thread finished; awaiting finish of 3 more threads\n",
      "2020-06-15 16:13:36,663 : INFO : worker thread finished; awaiting finish of 2 more threads\n",
      "2020-06-15 16:13:36,669 : INFO : worker thread finished; awaiting finish of 1 more threads\n",
      "2020-06-15 16:13:36,673 : INFO : worker thread finished; awaiting finish of 0 more threads\n",
      "2020-06-15 16:13:36,674 : INFO : EPOCH - 18 : training on 3684108 raw words (3097782 effective words) took 2.5s, 1217547 effective words/s\n",
      "2020-06-15 16:13:37,681 : INFO : EPOCH 19 - PROGRESS: at 19.39% examples, 1212639 words/s, in_qsize 15, out_qsize 0\n",
      "2020-06-15 16:13:38,696 : INFO : EPOCH 19 - PROGRESS: at 68.79% examples, 1193116 words/s, in_qsize 15, out_qsize 0\n",
      "2020-06-15 16:13:39,234 : INFO : worker thread finished; awaiting finish of 7 more threads\n",
      "2020-06-15 16:13:39,237 : INFO : worker thread finished; awaiting finish of 6 more threads\n",
      "2020-06-15 16:13:39,245 : INFO : worker thread finished; awaiting finish of 5 more threads\n",
      "2020-06-15 16:13:39,251 : INFO : worker thread finished; awaiting finish of 4 more threads\n",
      "2020-06-15 16:13:39,261 : INFO : worker thread finished; awaiting finish of 3 more threads\n",
      "2020-06-15 16:13:39,265 : INFO : worker thread finished; awaiting finish of 2 more threads\n",
      "2020-06-15 16:13:39,267 : INFO : worker thread finished; awaiting finish of 1 more threads\n",
      "2020-06-15 16:13:39,268 : INFO : worker thread finished; awaiting finish of 0 more threads\n",
      "2020-06-15 16:13:39,269 : INFO : EPOCH - 19 : training on 3684108 raw words (3096741 effective words) took 2.6s, 1196095 effective words/s\n",
      "2020-06-15 16:13:40,277 : INFO : EPOCH 20 - PROGRESS: at 19.08% examples, 1196381 words/s, in_qsize 15, out_qsize 0\n",
      "2020-06-15 16:13:41,283 : INFO : EPOCH 20 - PROGRESS: at 67.63% examples, 1186126 words/s, in_qsize 15, out_qsize 0\n",
      "2020-06-15 16:13:41,836 : INFO : worker thread finished; awaiting finish of 7 more threads\n",
      "2020-06-15 16:13:41,838 : INFO : worker thread finished; awaiting finish of 6 more threads\n",
      "2020-06-15 16:13:41,847 : INFO : worker thread finished; awaiting finish of 5 more threads\n",
      "2020-06-15 16:13:41,857 : INFO : worker thread finished; awaiting finish of 4 more threads\n",
      "2020-06-15 16:13:41,860 : INFO : worker thread finished; awaiting finish of 3 more threads\n",
      "2020-06-15 16:13:41,864 : INFO : worker thread finished; awaiting finish of 2 more threads\n",
      "2020-06-15 16:13:41,866 : INFO : worker thread finished; awaiting finish of 1 more threads\n",
      "2020-06-15 16:13:41,867 : INFO : worker thread finished; awaiting finish of 0 more threads\n",
      "2020-06-15 16:13:41,868 : INFO : EPOCH - 20 : training on 3684108 raw words (3097472 effective words) took 2.6s, 1195187 effective words/s\n",
      "2020-06-15 16:13:42,877 : INFO : EPOCH 21 - PROGRESS: at 19.39% examples, 1209762 words/s, in_qsize 15, out_qsize 0\n",
      "2020-06-15 16:13:43,888 : INFO : EPOCH 21 - PROGRESS: at 69.20% examples, 1198755 words/s, in_qsize 15, out_qsize 0\n",
      "2020-06-15 16:13:44,406 : INFO : worker thread finished; awaiting finish of 7 more threads\n",
      "2020-06-15 16:13:44,412 : INFO : worker thread finished; awaiting finish of 6 more threads\n",
      "2020-06-15 16:13:44,418 : INFO : worker thread finished; awaiting finish of 5 more threads\n",
      "2020-06-15 16:13:44,426 : INFO : worker thread finished; awaiting finish of 4 more threads\n",
      "2020-06-15 16:13:44,427 : INFO : worker thread finished; awaiting finish of 3 more threads\n",
      "2020-06-15 16:13:44,434 : INFO : worker thread finished; awaiting finish of 2 more threads\n",
      "2020-06-15 16:13:44,435 : INFO : worker thread finished; awaiting finish of 1 more threads\n",
      "2020-06-15 16:13:44,435 : INFO : worker thread finished; awaiting finish of 0 more threads\n",
      "2020-06-15 16:13:44,436 : INFO : EPOCH - 21 : training on 3684108 raw words (3096854 effective words) took 2.6s, 1208564 effective words/s\n",
      "2020-06-15 16:13:45,445 : INFO : EPOCH 22 - PROGRESS: at 18.79% examples, 1177383 words/s, in_qsize 15, out_qsize 0\n",
      "2020-06-15 16:13:46,446 : INFO : EPOCH 22 - PROGRESS: at 69.57% examples, 1208751 words/s, in_qsize 16, out_qsize 0\n",
      "2020-06-15 16:13:46,974 : INFO : worker thread finished; awaiting finish of 7 more threads\n",
      "2020-06-15 16:13:46,980 : INFO : worker thread finished; awaiting finish of 6 more threads\n",
      "2020-06-15 16:13:46,986 : INFO : worker thread finished; awaiting finish of 5 more threads\n",
      "2020-06-15 16:13:46,994 : INFO : worker thread finished; awaiting finish of 4 more threads\n",
      "2020-06-15 16:13:46,996 : INFO : worker thread finished; awaiting finish of 3 more threads\n",
      "2020-06-15 16:13:47,002 : INFO : worker thread finished; awaiting finish of 2 more threads\n",
      "2020-06-15 16:13:47,004 : INFO : worker thread finished; awaiting finish of 1 more threads\n",
      "2020-06-15 16:13:47,006 : INFO : worker thread finished; awaiting finish of 0 more threads\n",
      "2020-06-15 16:13:47,007 : INFO : EPOCH - 22 : training on 3684108 raw words (3096714 effective words) took 2.6s, 1207449 effective words/s\n",
      "2020-06-15 16:13:48,026 : INFO : EPOCH 23 - PROGRESS: at 18.92% examples, 1173956 words/s, in_qsize 15, out_qsize 0\n",
      "2020-06-15 16:13:49,029 : INFO : EPOCH 23 - PROGRESS: at 66.84% examples, 1171887 words/s, in_qsize 15, out_qsize 1\n",
      "2020-06-15 16:13:49,569 : INFO : worker thread finished; awaiting finish of 7 more threads\n",
      "2020-06-15 16:13:49,574 : INFO : worker thread finished; awaiting finish of 6 more threads\n",
      "2020-06-15 16:13:49,580 : INFO : worker thread finished; awaiting finish of 5 more threads\n",
      "2020-06-15 16:13:49,585 : INFO : worker thread finished; awaiting finish of 4 more threads\n",
      "2020-06-15 16:13:49,591 : INFO : worker thread finished; awaiting finish of 3 more threads\n",
      "2020-06-15 16:13:49,593 : INFO : worker thread finished; awaiting finish of 2 more threads\n",
      "2020-06-15 16:13:49,600 : INFO : worker thread finished; awaiting finish of 1 more threads\n",
      "2020-06-15 16:13:49,602 : INFO : worker thread finished; awaiting finish of 0 more threads\n",
      "2020-06-15 16:13:49,603 : INFO : EPOCH - 23 : training on 3684108 raw words (3096635 effective words) took 2.6s, 1195746 effective words/s\n",
      "2020-06-15 16:13:50,614 : INFO : EPOCH 24 - PROGRESS: at 19.53% examples, 1220347 words/s, in_qsize 15, out_qsize 0\n",
      "2020-06-15 16:13:51,644 : INFO : EPOCH 24 - PROGRESS: at 68.42% examples, 1179928 words/s, in_qsize 16, out_qsize 2\n",
      "2020-06-15 16:13:52,165 : INFO : worker thread finished; awaiting finish of 7 more threads\n",
      "2020-06-15 16:13:52,172 : INFO : worker thread finished; awaiting finish of 6 more threads\n",
      "2020-06-15 16:13:52,175 : INFO : worker thread finished; awaiting finish of 5 more threads\n",
      "2020-06-15 16:13:52,180 : INFO : worker thread finished; awaiting finish of 4 more threads\n",
      "2020-06-15 16:13:52,186 : INFO : worker thread finished; awaiting finish of 3 more threads\n",
      "2020-06-15 16:13:52,190 : INFO : worker thread finished; awaiting finish of 2 more threads\n",
      "2020-06-15 16:13:52,191 : INFO : worker thread finished; awaiting finish of 1 more threads\n",
      "2020-06-15 16:13:52,197 : INFO : worker thread finished; awaiting finish of 0 more threads\n",
      "2020-06-15 16:13:52,198 : INFO : EPOCH - 24 : training on 3684108 raw words (3097318 effective words) took 2.6s, 1197661 effective words/s\n",
      "2020-06-15 16:13:53,220 : INFO : EPOCH 25 - PROGRESS: at 18.92% examples, 1169321 words/s, in_qsize 15, out_qsize 0\n",
      "2020-06-15 16:13:54,225 : INFO : EPOCH 25 - PROGRESS: at 68.79% examples, 1190130 words/s, in_qsize 14, out_qsize 1\n",
      "2020-06-15 16:13:54,760 : INFO : worker thread finished; awaiting finish of 7 more threads\n",
      "2020-06-15 16:13:54,762 : INFO : worker thread finished; awaiting finish of 6 more threads\n",
      "2020-06-15 16:13:54,767 : INFO : worker thread finished; awaiting finish of 5 more threads\n",
      "2020-06-15 16:13:54,773 : INFO : worker thread finished; awaiting finish of 4 more threads\n",
      "2020-06-15 16:13:54,778 : INFO : worker thread finished; awaiting finish of 3 more threads\n",
      "2020-06-15 16:13:54,783 : INFO : worker thread finished; awaiting finish of 2 more threads\n",
      "2020-06-15 16:13:54,786 : INFO : worker thread finished; awaiting finish of 1 more threads\n",
      "2020-06-15 16:13:54,790 : INFO : worker thread finished; awaiting finish of 0 more threads\n",
      "2020-06-15 16:13:54,790 : INFO : EPOCH - 25 : training on 3684108 raw words (3097347 effective words) took 2.6s, 1197442 effective words/s\n",
      "2020-06-15 16:13:55,801 : INFO : EPOCH 26 - PROGRESS: at 19.08% examples, 1191980 words/s, in_qsize 15, out_qsize 0\n",
      "2020-06-15 16:13:56,801 : INFO : EPOCH 26 - PROGRESS: at 67.22% examples, 1182665 words/s, in_qsize 16, out_qsize 0\n",
      "2020-06-15 16:13:57,353 : INFO : worker thread finished; awaiting finish of 7 more threads\n",
      "2020-06-15 16:13:57,361 : INFO : worker thread finished; awaiting finish of 6 more threads\n",
      "2020-06-15 16:13:57,367 : INFO : worker thread finished; awaiting finish of 5 more threads\n",
      "2020-06-15 16:13:57,376 : INFO : worker thread finished; awaiting finish of 4 more threads\n",
      "2020-06-15 16:13:57,383 : INFO : worker thread finished; awaiting finish of 3 more threads\n",
      "2020-06-15 16:13:57,384 : INFO : worker thread finished; awaiting finish of 2 more threads\n",
      "2020-06-15 16:13:57,385 : INFO : worker thread finished; awaiting finish of 1 more threads\n",
      "2020-06-15 16:13:57,386 : INFO : worker thread finished; awaiting finish of 0 more threads\n",
      "2020-06-15 16:13:57,386 : INFO : EPOCH - 26 : training on 3684108 raw words (3097227 effective words) took 2.6s, 1195694 effective words/s\n",
      "2020-06-15 16:13:58,396 : INFO : EPOCH 27 - PROGRESS: at 19.86% examples, 1236567 words/s, in_qsize 15, out_qsize 0\n",
      "2020-06-15 16:13:59,409 : INFO : EPOCH 27 - PROGRESS: at 70.68% examples, 1214770 words/s, in_qsize 14, out_qsize 1\n",
      "2020-06-15 16:13:59,905 : INFO : worker thread finished; awaiting finish of 7 more threads\n",
      "2020-06-15 16:13:59,909 : INFO : worker thread finished; awaiting finish of 6 more threads\n",
      "2020-06-15 16:13:59,915 : INFO : worker thread finished; awaiting finish of 5 more threads\n",
      "2020-06-15 16:13:59,931 : INFO : worker thread finished; awaiting finish of 4 more threads\n",
      "2020-06-15 16:13:59,934 : INFO : worker thread finished; awaiting finish of 3 more threads\n",
      "2020-06-15 16:13:59,936 : INFO : worker thread finished; awaiting finish of 2 more threads\n",
      "2020-06-15 16:13:59,940 : INFO : worker thread finished; awaiting finish of 1 more threads\n",
      "2020-06-15 16:13:59,942 : INFO : worker thread finished; awaiting finish of 0 more threads\n",
      "2020-06-15 16:13:59,942 : INFO : EPOCH - 27 : training on 3684108 raw words (3096909 effective words) took 2.5s, 1215147 effective words/s\n",
      "2020-06-15 16:14:00,954 : INFO : EPOCH 28 - PROGRESS: at 19.08% examples, 1190612 words/s, in_qsize 15, out_qsize 0\n",
      "2020-06-15 16:14:01,961 : INFO : EPOCH 28 - PROGRESS: at 68.79% examples, 1195178 words/s, in_qsize 15, out_qsize 0\n",
      "2020-06-15 16:14:02,501 : INFO : worker thread finished; awaiting finish of 7 more threads\n",
      "2020-06-15 16:14:02,508 : INFO : worker thread finished; awaiting finish of 6 more threads\n",
      "2020-06-15 16:14:02,511 : INFO : worker thread finished; awaiting finish of 5 more threads\n",
      "2020-06-15 16:14:02,522 : INFO : worker thread finished; awaiting finish of 4 more threads\n",
      "2020-06-15 16:14:02,523 : INFO : worker thread finished; awaiting finish of 3 more threads\n",
      "2020-06-15 16:14:02,537 : INFO : worker thread finished; awaiting finish of 2 more threads\n",
      "2020-06-15 16:14:02,538 : INFO : worker thread finished; awaiting finish of 1 more threads\n",
      "2020-06-15 16:14:02,539 : INFO : worker thread finished; awaiting finish of 0 more threads\n",
      "2020-06-15 16:14:02,540 : INFO : EPOCH - 28 : training on 3684108 raw words (3097282 effective words) took 2.6s, 1194907 effective words/s\n",
      "2020-06-15 16:14:03,551 : INFO : EPOCH 29 - PROGRESS: at 19.08% examples, 1191429 words/s, in_qsize 15, out_qsize 0\n",
      "2020-06-15 16:14:04,556 : INFO : EPOCH 29 - PROGRESS: at 69.20% examples, 1201661 words/s, in_qsize 15, out_qsize 0\n",
      "2020-06-15 16:14:05,078 : INFO : worker thread finished; awaiting finish of 7 more threads\n",
      "2020-06-15 16:14:05,080 : INFO : worker thread finished; awaiting finish of 6 more threads\n",
      "2020-06-15 16:14:05,081 : INFO : worker thread finished; awaiting finish of 5 more threads\n",
      "2020-06-15 16:14:05,098 : INFO : worker thread finished; awaiting finish of 4 more threads\n",
      "2020-06-15 16:14:05,100 : INFO : worker thread finished; awaiting finish of 3 more threads\n",
      "2020-06-15 16:14:05,101 : INFO : worker thread finished; awaiting finish of 2 more threads\n",
      "2020-06-15 16:14:05,103 : INFO : worker thread finished; awaiting finish of 1 more threads\n",
      "2020-06-15 16:14:05,105 : INFO : worker thread finished; awaiting finish of 0 more threads\n",
      "2020-06-15 16:14:05,106 : INFO : EPOCH - 29 : training on 3684108 raw words (3097099 effective words) took 2.6s, 1210109 effective words/s\n",
      "2020-06-15 16:14:06,117 : INFO : EPOCH 30 - PROGRESS: at 19.08% examples, 1192033 words/s, in_qsize 15, out_qsize 0\n",
      "2020-06-15 16:14:07,122 : INFO : EPOCH 30 - PROGRESS: at 68.39% examples, 1192904 words/s, in_qsize 15, out_qsize 0\n",
      "2020-06-15 16:14:07,658 : INFO : worker thread finished; awaiting finish of 7 more threads\n",
      "2020-06-15 16:14:07,661 : INFO : worker thread finished; awaiting finish of 6 more threads\n",
      "2020-06-15 16:14:07,667 : INFO : worker thread finished; awaiting finish of 5 more threads\n",
      "2020-06-15 16:14:07,671 : INFO : worker thread finished; awaiting finish of 4 more threads\n",
      "2020-06-15 16:14:07,681 : INFO : worker thread finished; awaiting finish of 3 more threads\n",
      "2020-06-15 16:14:07,682 : INFO : worker thread finished; awaiting finish of 2 more threads\n",
      "2020-06-15 16:14:07,688 : INFO : worker thread finished; awaiting finish of 1 more threads\n",
      "2020-06-15 16:14:07,690 : INFO : worker thread finished; awaiting finish of 0 more threads\n",
      "2020-06-15 16:14:07,691 : INFO : EPOCH - 30 : training on 3684108 raw words (3096888 effective words) took 2.6s, 1201108 effective words/s\n",
      "2020-06-15 16:14:08,703 : INFO : EPOCH 31 - PROGRESS: at 19.39% examples, 1207228 words/s, in_qsize 16, out_qsize 0\n",
      "2020-06-15 16:14:09,714 : INFO : EPOCH 31 - PROGRESS: at 69.95% examples, 1205579 words/s, in_qsize 15, out_qsize 0\n",
      "2020-06-15 16:14:10,206 : INFO : worker thread finished; awaiting finish of 7 more threads\n",
      "2020-06-15 16:14:10,223 : INFO : worker thread finished; awaiting finish of 6 more threads\n",
      "2020-06-15 16:14:10,228 : INFO : worker thread finished; awaiting finish of 5 more threads\n",
      "2020-06-15 16:14:10,235 : INFO : worker thread finished; awaiting finish of 4 more threads\n",
      "2020-06-15 16:14:10,240 : INFO : worker thread finished; awaiting finish of 3 more threads\n",
      "2020-06-15 16:14:10,242 : INFO : worker thread finished; awaiting finish of 2 more threads\n",
      "2020-06-15 16:14:10,248 : INFO : worker thread finished; awaiting finish of 1 more threads\n",
      "2020-06-15 16:14:10,249 : INFO : worker thread finished; awaiting finish of 0 more threads\n",
      "2020-06-15 16:14:10,250 : INFO : EPOCH - 31 : training on 3684108 raw words (3096736 effective words) took 2.6s, 1213077 effective words/s\n",
      "2020-06-15 16:14:11,266 : INFO : EPOCH 32 - PROGRESS: at 19.71% examples, 1218114 words/s, in_qsize 15, out_qsize 0\n",
      "2020-06-15 16:14:12,275 : INFO : EPOCH 32 - PROGRESS: at 69.20% examples, 1195167 words/s, in_qsize 15, out_qsize 0\n",
      "2020-06-15 16:14:12,794 : INFO : worker thread finished; awaiting finish of 7 more threads\n",
      "2020-06-15 16:14:12,796 : INFO : worker thread finished; awaiting finish of 6 more threads\n",
      "2020-06-15 16:14:12,807 : INFO : worker thread finished; awaiting finish of 5 more threads\n",
      "2020-06-15 16:14:12,813 : INFO : worker thread finished; awaiting finish of 4 more threads\n",
      "2020-06-15 16:14:12,816 : INFO : worker thread finished; awaiting finish of 3 more threads\n",
      "2020-06-15 16:14:12,818 : INFO : worker thread finished; awaiting finish of 2 more threads\n",
      "2020-06-15 16:14:12,822 : INFO : worker thread finished; awaiting finish of 1 more threads\n",
      "2020-06-15 16:14:12,825 : INFO : worker thread finished; awaiting finish of 0 more threads\n",
      "2020-06-15 16:14:12,826 : INFO : EPOCH - 32 : training on 3684108 raw words (3096963 effective words) took 2.6s, 1204837 effective words/s\n",
      "2020-06-15 16:14:12,827 : INFO : training on a 117891456 raw words (99104036 effective words) took 82.6s, 1199813 effective words/s\n"
     ]
    },
    {
     "name": "stdout",
     "output_type": "stream",
     "text": [
      "CPU times: user 8min 32s, sys: 2.22 s, total: 8min 35s\n",
      "Wall time: 1min 22s\n"
     ]
    },
    {
     "data": {
      "text/plain": [
       "(99104036, 117891456)"
      ]
     },
     "execution_count": 12,
     "metadata": {},
     "output_type": "execute_result"
    }
   ],
   "source": [
    "%%time\n",
    "\n",
    "# Initializing the train model\n",
    "print(\"Training model....\")\n",
    "w2v_model.train(documents, total_examples = len(documents), epochs = W2V_EPOCH)"
   ]
  },
  {
   "cell_type": "code",
   "execution_count": 7,
   "metadata": {},
   "outputs": [
    {
     "name": "stderr",
     "output_type": "stream",
     "text": [
      "2020-06-22 11:49:31,579 : INFO : loading Word2Vec object from w2v_train_model_balance\n",
      "2020-06-22 11:49:31,807 : INFO : loading wv recursively from w2v_train_model_balance.wv.* with mmap=None\n",
      "2020-06-22 11:49:31,808 : INFO : setting ignored attribute vectors_norm to None\n",
      "2020-06-22 11:49:31,809 : INFO : loading vocabulary recursively from w2v_train_model_balance.vocabulary.* with mmap=None\n",
      "2020-06-22 11:49:31,810 : INFO : loading trainables recursively from w2v_train_model_balance.trainables.* with mmap=None\n",
      "2020-06-22 11:49:31,811 : INFO : setting ignored attribute cum_table to None\n",
      "2020-06-22 11:49:31,812 : INFO : loaded w2v_train_model_balance\n"
     ]
    }
   ],
   "source": [
    "# We don't plan on training the model any further, so calling \n",
    "# init_sims will make the model more memory efficient by normalizing the vectors in-place.\n",
    "w2v_model.init_sims(replace = True)\n",
    "\n",
    "# Save the model\n",
    "w2v_model.save(WORD2VEC_MODEL)\n",
    "w2v_model.wv.save(WORD2VEC_MODEL_WV)\n",
    "# Can load word2vec from our trained model\n",
    "# model_w2v = Word2Vec.load(WORD2VEC_MODEL)\n",
    "w2v = {w: vec for w, vec in zip(model_w2v.wv.index2word, model_w2v.wv.syn0)}"
   ]
  },
  {
   "cell_type": "code",
   "execution_count": 14,
   "metadata": {},
   "outputs": [
    {
     "data": {
      "text/plain": [
       "'jenny'"
      ]
     },
     "execution_count": 14,
     "metadata": {},
     "output_type": "execute_result"
    }
   ],
   "source": [
    "w2v_model.wv.doesnt_match(\"bedroom kitchen jenny room balcony\".split())"
   ]
  },
  {
   "cell_type": "code",
   "execution_count": 15,
   "metadata": {},
   "outputs": [
    {
     "data": {
      "text/plain": [
       "[('bedroom', 0.735270619392395),\n",
       " ('space', 0.6917666792869568),\n",
       " ('bathroom', 0.6140483617782593),\n",
       " ('apartment', 0.6038437485694885),\n",
       " ('not', 0.5941756367683411),\n",
       " ('place', 0.5894209146499634),\n",
       " ('house', 0.5792058706283569),\n",
       " ('bed', 0.5740684270858765),\n",
       " ('small', 0.548636794090271),\n",
       " ('need', 0.5421717762947083)]"
      ]
     },
     "execution_count": 15,
     "metadata": {},
     "output_type": "execute_result"
    }
   ],
   "source": [
    "w2v_model.wv.most_similar(\"room\")"
   ]
  },
  {
   "cell_type": "code",
   "execution_count": 16,
   "metadata": {},
   "outputs": [
    {
     "data": {
      "text/plain": [
       "[('cancellation', 0.5150265693664551),\n",
       " ('confirm', 0.4770665764808655),\n",
       " ('extend', 0.4632043242454529),\n",
       " ('accept', 0.45655351877212524),\n",
       " ('approve', 0.41464197635650635),\n",
       " ('refund', 0.41436344385147095),\n",
       " ('unreachable', 0.412227600812912),\n",
       " ('change', 0.40465736389160156),\n",
       " ('unable', 0.39458659291267395),\n",
       " ('unresponsive', 0.3872157037258148)]"
      ]
     },
     "execution_count": 16,
     "metadata": {},
     "output_type": "execute_result"
    }
   ],
   "source": [
    "w2v_model.wv.most_similar(\"cancel\")"
   ]
  },
  {
   "cell_type": "code",
   "execution_count": 17,
   "metadata": {},
   "outputs": [
    {
     "data": {
      "text/plain": [
       "[('hostess', 0.6051396727561951),\n",
       " ('owner', 0.5595722198486328),\n",
       " ('stay', 0.5250556468963623),\n",
       " ('landlord', 0.4962245523929596),\n",
       " ('not', 0.48784276843070984),\n",
       " ('extremely', 0.47499895095825195),\n",
       " ('person', 0.4630879759788513),\n",
       " ('place', 0.46134090423583984),\n",
       " ('need', 0.45435014367103577),\n",
       " ('help', 0.4464545249938965)]"
      ]
     },
     "execution_count": 17,
     "metadata": {},
     "output_type": "execute_result"
    }
   ],
   "source": [
    "w2v_model.wv.most_similar(\"host\")"
   ]
  },
  {
   "cell_type": "code",
   "execution_count": 18,
   "metadata": {},
   "outputs": [
    {
     "data": {
      "text/plain": [
       "(10981, 300)"
      ]
     },
     "execution_count": 18,
     "metadata": {},
     "output_type": "execute_result"
    }
   ],
   "source": [
    "w2v_model.wv.syn0.shape"
   ]
  },
  {
   "cell_type": "markdown",
   "metadata": {},
   "source": [
    "### Load data"
   ]
  },
  {
   "cell_type": "code",
   "execution_count": 19,
   "metadata": {},
   "outputs": [
    {
     "name": "stdout",
     "output_type": "stream",
     "text": [
      "TRAIN size: 84460\n",
      "TEST size: 21115\n"
     ]
    }
   ],
   "source": [
    "X_train, X_test, y_train, y_test = train_test_split(X, y, test_size = 0.2, random_state = 42, shuffle = True)\n",
    "print(\"TRAIN size:\", len(X_train))\n",
    "print(\"TEST size:\", len(X_test))"
   ]
  },
  {
   "cell_type": "code",
   "execution_count": 20,
   "metadata": {},
   "outputs": [],
   "source": [
    "# Processing the word once more\n",
    "punctuations = string.punctuation\n",
    "stops = list(stopwords.words('english'))\n",
    "\n",
    "def clean_text(text):\n",
    "    #Remove all characters except A-Z\n",
    "    alphas_only = re.sub(\"[^a-zA-Z]\", r\" \", str(text))\n",
    "    #Normalize all charachters to lowercase and split them\n",
    "    words = alphas_only.lower().split() \n",
    "    #Remove all character where is not in our stopwords\n",
    "    myword = [w for w in words if w not in stops and w not in punctuations]\n",
    "    \n",
    "    return myword"
   ]
  },
  {
   "cell_type": "code",
   "execution_count": 21,
   "metadata": {},
   "outputs": [],
   "source": [
    "# Custom transformer text reviews \n",
    "class preprocessing(TransformerMixin):\n",
    "    def transform(self, X, **transform_params):\n",
    "        return [clean_text(text) for text in X]        \n",
    "    def fit(self, X, y, **fit_params):\n",
    "        return self\n",
    "    def get_params(self, deep=True):\n",
    "        return {}"
   ]
  },
  {
   "cell_type": "code",
   "execution_count": 22,
   "metadata": {},
   "outputs": [],
   "source": [
    "# Get average feature vectorize from word2vec model\n",
    "class MeanFeatureVecs(object):\n",
    "    def __init__(self, word2vec):\n",
    "        self.word2vec = word2vec\n",
    "        self.dim = W2V_SIZE\n",
    "            \n",
    "    def fit(self, X, y):\n",
    "        return self \n",
    "\n",
    "    def transform(self, X):\n",
    "        return np.array([\n",
    "            np.mean([self.word2vec[w] for w in words if w in self.word2vec] \n",
    "                    or [np.zeros(self.dim)], axis=0)\n",
    "            for words in X\n",
    "        ])"
   ]
  },
  {
   "cell_type": "code",
   "execution_count": 23,
   "metadata": {},
   "outputs": [],
   "source": [
    "# and a tf-idf version of the same\n",
    "class TfidfFeatureVects(object):\n",
    "    def __init__(self, word2vec):\n",
    "        self.word2vec = word2vec\n",
    "        self.word2weight = None\n",
    "        self.dim = W2V_SIZE\n",
    "        \n",
    "    def fit(self, X, y):\n",
    "        tfidf = TfidfVectorizer(analyzer=lambda x: x)\n",
    "        tfidf.fit(X)\n",
    "        # if a word was never seen - it must be at least as infrequent\n",
    "        # as any of the known words - so the default idf is the max of \n",
    "        # known idf's\n",
    "        max_idf = max(tfidf.idf_)\n",
    "        self.word2weight = defaultdict(\n",
    "            lambda: max_idf, \n",
    "            [(w, tfidf.idf_[i]) for w, i in tfidf.vocabulary_.items()])\n",
    "    \n",
    "        return self\n",
    "    \n",
    "    def transform(self, X):\n",
    "        return np.array([\n",
    "                np.mean([self.word2vec[w] * self.word2weight[w]\n",
    "                         for w in words if w in self.word2vec] or\n",
    "                        [np.zeros(self.dim)], axis=0)\n",
    "                for words in X\n",
    "            ])"
   ]
  },
  {
   "cell_type": "markdown",
   "metadata": {},
   "source": [
    "These vectorizers can now be used almost the same way as CountVectorizer or TfidfVectorizer from sklearn. Almost - because sklearn vectorizers can also do their own tokenization - a feature which we won’t be using anyway because the benchmarks we will be using come already tokenized. In a real application I wouldn’t trust sklearn with tokenization anyway - rather let spaCy do it."
   ]
  },
  {
   "cell_type": "markdown",
   "metadata": {},
   "source": [
    "### Fitting the classifier"
   ]
  },
  {
   "cell_type": "markdown",
   "metadata": {},
   "source": [
    "We're now ready to fit the classifier to our data. We'll spend more time on hyper parameter tuning later, so for now we just pick some reasonable guesses. Note here that we use the OneVsRestClassifier. This allows us to get the probability distribution over all three classes. Behind the scenes we actually create three classifiers. Each of these classifiers determines the probability that the datapoint belongs to it's corresponding class, or any of the other classes. Hence the name OneVsRest."
   ]
  },
  {
   "cell_type": "code",
   "execution_count": 35,
   "metadata": {},
   "outputs": [],
   "source": [
    "extree_w2v = Pipeline([ (\"text preprocessing\", preprocessing()),\n",
    "                        (\"word2vec vectorizer\", MeanFeatureVecs(w2v)), \n",
    "                        (\"extra trees\", ExtraTreesClassifier(n_estimators = 300))])\n",
    "extree_tfidf_w2v = Pipeline([ (\"text preprocessing\", preprocessing()),\n",
    "                        (\"word2vec vectorizer\", TfidfFeatureVects(w2v)), \n",
    "                        (\"extra trees\", ExtraTreesClassifier(n_estimators = 300))])\n",
    "forest_w2v = Pipeline([ (\"text preprocessing\", preprocessing()),\n",
    "                        (\"word2vec vectorizer\", MeanFeatureVecs(w2v)), \n",
    "                        (\"random forest\", RandomForestClassifier(n_estimators = 200))])\n",
    "forest_tfidf_w2v = Pipeline([ (\"text preprocessing\", preprocessing()),\n",
    "                        (\"word2vec vectorizer\", TfidfFeatureVects(w2v)), \n",
    "                        (\"random forest\", RandomForestClassifier(n_estimators = 200))])\n",
    "logreg_w2v = Pipeline([ (\"text preprocessing\", preprocessing()),\n",
    "                        (\"word2vec vectorizer\", TfidfFeatureVects(w2v)), \n",
    "                        (\"logistic regression\", LogisticRegression(random_state = 0, multi_class = 'ovr'))])\n",
    "logreg_tfidf_w2v = Pipeline([ (\"text preprocessing\", preprocessing()),\n",
    "                        (\"word2vec vectorizer\", TfidfFeatureVects(w2v)), \n",
    "                        (\"logistic regression\", LogisticRegression(random_state = 0, multi_class = 'ovr'))])"
   ]
  },
  {
   "cell_type": "code",
   "execution_count": 29,
   "metadata": {},
   "outputs": [],
   "source": [
    "# start with the classics - naive bayes of the multinomial and bernoulli varieties\n",
    "# with either pure counts or tfidf features\n",
    "multi_nb = Pipeline([(\"count_vectorizer\", CountVectorizer(analyzer = lambda x: x)),\n",
    "                    (\"multinomial nb\", MultinomialNB())])\n",
    "multi_nb_tfidf = Pipeline([(\"tfidf_vectorizer\", TfidfVectorizer(analyzer = lambda x: x)),\n",
    "                          (\"multinomial nb\", MultinomialNB())])\n",
    "logreg = Pipeline([(\"tfidf_vectorizer\", TfidfVectorizer(analyzer = lambda x: x)),\n",
    "                          (\"logistic regression\", LogisticRegression(random_state = 0, multi_class = 'ovr'))])\n",
    "logreg_tfidf = Pipeline([(\"tfidf_vectorizer\", TfidfVectorizer(analyzer = lambda x: x)),\n",
    "                          (\"logistic regression\", LogisticRegression(random_state = 0, multi_class = 'ovr'))])\n",
    "svc = Pipeline([ (\"tfidf_vectorizer\", TfidfVectorizer(analyzer = lambda x: x)), \n",
    "                 (\"SVC\", OneVsRestClassifier(SVC(class_weight = 'balanced', kernel='linear')))])\n",
    "svc_tfidf = Pipeline([  (\"tfidf_vectorizer\", TfidfVectorizer(analyzer = lambda x: x)), \n",
    "                        (\"SVC\", OneVsRestClassifier(SVC(class_weight = 'balanced', kernel='linear')))])\n",
    "                        "
   ]
  },
  {
   "cell_type": "code",
   "execution_count": 36,
   "metadata": {},
   "outputs": [
    {
     "name": "stdout",
     "output_type": "stream",
     "text": [
      "model               score\n",
      "----------------  -------\n",
      "forest_w2v         0.8455\n",
      "extree_w2v         0.8397\n",
      "forest_tfidf_w2v   0.8289\n",
      "extree_tfidf_w2v   0.8223\n",
      "logreg_w2v         0.7881\n",
      "logreg_tfidf_w2v   0.7881\n",
      "log_reg            0.7282\n",
      "log_reg_tfidf      0.7282\n",
      "svc                0.7224\n",
      "svc_tfidf          0.7224\n",
      "multi_nb           0.6631\n",
      "multi_nb_tfidf     0.5752\n",
      "CPU times: user 5h 9min 47s, sys: 2min 43s, total: 5h 12min 31s\n",
      "Wall time: 5h 2min 8s\n"
     ]
    }
   ],
   "source": [
    "%%time\n",
    "\n",
    "all_models = [\n",
    "    (\"extree_w2v\", extree_w2v),\n",
    "    (\"extree_tfidf_w2v\", extree_tfidf_w2v),\n",
    "    (\"forest_w2v\", forest_w2v),\n",
    "    (\"forest_tfidf_w2v\", forest_tfidf_w2v),\n",
    "    (\"logreg_w2v\", logreg_w2v),\n",
    "    (\"logreg_tfidf_w2v\", logreg_tfidf_w2v),\n",
    "    (\"multi_nb\", multi_nb),\n",
    "    (\"multi_nb_tfidf\", multi_nb_tfidf),\n",
    "    (\"log_reg\", log_reg),\n",
    "    (\"log_reg_tfidf\", log_reg_tfidf),\n",
    "    (\"svc\", svc),\n",
    "    (\"svc_tfidf\", svc_tfidf)\n",
    "]\n",
    "\n",
    "skfold = StratifiedKFold(n_splits = 5, random_state = 42)\n",
    "\n",
    "unsorted_scores = [(name, cross_val_score(model, X_train, y_train, cv = skfold).mean()) for name, model in all_models]\n",
    "scores = sorted(unsorted_scores, key=lambda x: -x[1])\n",
    "\n",
    "print (tabulate(scores, floatfmt=\".4f\", headers=(\"model\", 'score')))"
   ]
  },
  {
   "cell_type": "code",
   "execution_count": 37,
   "metadata": {},
   "outputs": [
    {
     "data": {
      "text/plain": [
       "<matplotlib.axes._subplots.AxesSubplot at 0x7f3ea049f990>"
      ]
     },
     "execution_count": 37,
     "metadata": {},
     "output_type": "execute_result"
    },
    {
     "data": {
      "image/png": "[encoded data removed]",
      "text/plain": [
       "<Figure size 1080x432 with 1 Axes>"
      ]
     },
     "metadata": {
      "needs_background": "light"
     },
     "output_type": "display_data"
    }
   ],
   "source": [
    "plt.figure(figsize = (15, 6))\n",
    "sns.barplot(x = [name for name, _ in scores], y = [score for _, score in scores])"
   ]
  },
  {
   "cell_type": "markdown",
   "metadata": {},
   "source": [
    "ok, this is how it is. Let's see how the ranking depends on the amount of training data. Word embedding models which are semi-supervised should shine when there is very little labeled training data"
   ]
  },
  {
   "cell_type": "code",
   "execution_count": 78,
   "metadata": {},
   "outputs": [],
   "source": [
    "def benchmark(model, X, y, n):\n",
    "    test_size = 1 - (n / float(len(y)))\n",
    "    scores = []\n",
    "    shufflesplit = StratifiedShuffleSplit(n_splits=5, test_size = test_size)\n",
    "    for train, test in shufflesplit.split(X, y):\n",
    "        X_train, X_test = X.iloc[train], X.iloc[test]\n",
    "        y_train, y_test = y.iloc[train], y.iloc[test]\n",
    "        scores.append(accuracy_score(model.fit(X_train, y_train).predict(X_test), y_test))\n",
    "    return np.mean(scores)"
   ]
  },
  {
   "cell_type": "code",
   "execution_count": 81,
   "metadata": {},
   "outputs": [
    {
     "name": "stdout",
     "output_type": "stream",
     "text": [
      "CPU times: user 2h 13min 29s, sys: 1min 51s, total: 2h 15min 20s\n",
      "Wall time: 2h 12min 13s\n"
     ]
    }
   ],
   "source": [
    "%%time\n",
    "train_sizes = [10, 40, 160, 640, 3200, 6400]\n",
    "table = []\n",
    "for name, model in all_models:\n",
    "    for n in train_sizes:\n",
    "        table.append({'model': name, \n",
    "                      'accuracy': benchmark(model, X, y, n), \n",
    "                      'train_size': n})\n",
    "df = pd.DataFrame(table)"
   ]
  },
  {
   "cell_type": "code",
   "execution_count": 82,
   "metadata": {},
   "outputs": [
    {
     "data": {
      "text/plain": [
       "[Text(0, 0.5, 'accuracy')]"
      ]
     },
     "execution_count": 82,
     "metadata": {},
     "output_type": "execute_result"
    },
    {
     "data": {
      "image/png": "[encoded data removed]",
      "text/plain": [
       "<Figure size 1080x432 with 1 Axes>"
      ]
     },
     "metadata": {
      "needs_background": "light"
     },
     "output_type": "display_data"
    }
   ],
   "source": [
    "plt.figure(figsize = (15, 6))\n",
    "fig = sns.pointplot(x = 'train_size', y = 'accuracy', hue = 'model', \n",
    "                    data = df[df.model.map(lambda x: x in [\"forest_w2v\", \"extree_w2v\", \"svc_tfidf\", \"forest_tfidf_w2v\", \n",
    "                                                         \"extree_tfidf_w2v\", \"logreg_tfidf_w2v\", \"log_reg\" \n",
    "                                                        ])])\n",
    "sns.set_context(\"notebook\", font_scale = 1.5)\n",
    "fig.set(ylabel = \"accuracy\")\n",
    "fig.set(xlabel = \"labeled training examples\")\n",
    "fig.set(title = \"Airbnb Newyork Reviews benchmark\")\n",
    "fig.set(ylabel = \"accuracy\")"
   ]
  },
  {
   "cell_type": "code",
   "execution_count": 39,
   "metadata": {},
   "outputs": [],
   "source": [
    "def model(algorithm, X_train, X_test, y_train, y_test):\n",
    "    model = algorithm\n",
    "    alg_model = model.fit(X_train, y_train)\n",
    "    global y_pred\n",
    "    y_pred = alg_model.predict(X_test)\n",
    "    \n",
    "    accuracy = round(accuracy_score(y_test, y_pred) * 100, 2)\n",
    "    rmse = np.sqrt(mean_squared_error(y_test, y_pred))\n",
    "    report = classification_report(y_test, y_pred)\n",
    "\n",
    "    print('The accuracy of the classifier is {0}%'.format(accuracy))\n",
    "    print('\\nThe calculated RMSE is {0}'.format(rmse))\n",
    "    print('\\nThe classification report is as follows:\\n')\n",
    "    print(report)"
   ]
  },
  {
   "cell_type": "code",
   "execution_count": 47,
   "metadata": {},
   "outputs": [],
   "source": [
    "model_selected = [(\"forest_w2v\", forest_w2v), (\"extree_w2v\", extree_w2v),\n",
    "                  (\"forest_tfidf_w2v\",forest_tfidf_w2v), (\"extree_tfidf_w2v\", extree_tfidf_w2v)]"
   ]
  },
  {
   "cell_type": "code",
   "execution_count": 51,
   "metadata": {},
   "outputs": [
    {
     "name": "stdout",
     "output_type": "stream",
     "text": [
      "\n",
      "Test to model forest_w2v ...\n",
      "The accuracy of the classifier is 84.52%\n",
      "\n",
      "The calculated RMSE is 0.453000625450753\n",
      "\n",
      "The classification report is as follows:\n",
      "\n",
      "              precision    recall  f1-score   support\n",
      "\n",
      "           0       0.85      0.75      0.80      5118\n",
      "           1       0.82      0.83      0.82      8089\n",
      "           2       0.87      0.92      0.90      7908\n",
      "\n",
      "    accuracy                           0.85     21115\n",
      "   macro avg       0.85      0.83      0.84     21115\n",
      "weighted avg       0.84      0.85      0.84     21115\n",
      "\n",
      "\n",
      "Test to model extree_w2v ...\n",
      "The accuracy of the classifier is 83.76%\n",
      "\n",
      "The calculated RMSE is 0.47249720758633956\n",
      "\n",
      "The classification report is as follows:\n",
      "\n",
      "              precision    recall  f1-score   support\n",
      "\n",
      "           0       0.84      0.76      0.80      5118\n",
      "           1       0.84      0.78      0.81      8089\n",
      "           2       0.84      0.95      0.89      7908\n",
      "\n",
      "    accuracy                           0.84     21115\n",
      "   macro avg       0.84      0.83      0.83     21115\n",
      "weighted avg       0.84      0.84      0.84     21115\n",
      "\n",
      "\n",
      "Test to model forest_tfidf_w2v ...\n",
      "The accuracy of the classifier is 82.62%\n",
      "\n",
      "The calculated RMSE is 0.4745974277707391\n",
      "\n",
      "The classification report is as follows:\n",
      "\n",
      "              precision    recall  f1-score   support\n",
      "\n",
      "           0       0.84      0.74      0.79      5118\n",
      "           1       0.79      0.80      0.80      8089\n",
      "           2       0.85      0.91      0.88      7908\n",
      "\n",
      "    accuracy                           0.83     21115\n",
      "   macro avg       0.83      0.82      0.82     21115\n",
      "weighted avg       0.83      0.83      0.82     21115\n",
      "\n",
      "\n",
      "Test to model extree_tfidf_w2v ...\n",
      "The accuracy of the classifier is 82.11%\n",
      "\n",
      "The calculated RMSE is 0.4918950004336034\n",
      "\n",
      "The classification report is as follows:\n",
      "\n",
      "              precision    recall  f1-score   support\n",
      "\n",
      "           0       0.84      0.75      0.79      5118\n",
      "           1       0.82      0.75      0.78      8089\n",
      "           2       0.81      0.94      0.87      7908\n",
      "\n",
      "    accuracy                           0.82     21115\n",
      "   macro avg       0.82      0.81      0.82     21115\n",
      "weighted avg       0.82      0.82      0.82     21115\n",
      "\n",
      "CPU times: user 28min 9s, sys: 1.92 s, total: 28min 11s\n",
      "Wall time: 28min 10s\n"
     ]
    }
   ],
   "source": [
    "%%time\n",
    "\n",
    "for i, j in zip(model_selected, range(1, len(model_selected)+1)):\n",
    "    print('\\nTest to model {} ...'.format(i[0]))\n",
    "    model(i[1], X_train, X_test, y_train, y_test)"
   ]
  },
  {
   "cell_type": "markdown",
   "metadata": {},
   "source": [
    "Random Forest accuracy gets the best score among others, which is 85% and the data does not underfit or overfit after we check it with cross validation. So, we can use this model for machine learning."
   ]
  },
  {
   "cell_type": "markdown",
   "metadata": {},
   "source": [
    "### Trying Grid Search for Hyperparameter Tuning"
   ]
  },
  {
   "cell_type": "code",
   "execution_count": 87,
   "metadata": {},
   "outputs": [
    {
     "data": {
      "text/plain": [
       "dict_keys(['memory', 'steps', 'verbose', 'text preprocessing', 'word2vec vectorizer', 'random forest', 'random forest__bootstrap', 'random forest__ccp_alpha', 'random forest__class_weight', 'random forest__criterion', 'random forest__max_depth', 'random forest__max_features', 'random forest__max_leaf_nodes', 'random forest__max_samples', 'random forest__min_impurity_decrease', 'random forest__min_impurity_split', 'random forest__min_samples_leaf', 'random forest__min_samples_split', 'random forest__min_weight_fraction_leaf', 'random forest__n_estimators', 'random forest__n_jobs', 'random forest__oob_score', 'random forest__random_state', 'random forest__verbose', 'random forest__warm_start'])"
      ]
     },
     "execution_count": 87,
     "metadata": {},
     "output_type": "execute_result"
    }
   ],
   "source": [
    "forest_w2v.get_params().keys()"
   ]
  },
  {
   "cell_type": "code",
   "execution_count": 88,
   "metadata": {},
   "outputs": [],
   "source": [
    "# Utility function to report best scores\n",
    "def report(grid_scores, n_top):\n",
    "    top_scores = sorted(grid_scores, key = itemgetter(1), reverse=True)[:n_top]\n",
    "    for i, score in enumerate(top_scores):\n",
    "        print(\"Model with rank: {0}\".format(i + 1))\n",
    "        print(\"Mean validation score: {0:.4f})\".format(\n",
    "              score.mean_validation_score,\n",
    "              np.std(score.cv_validation_scores)))\n",
    "        print(\"Parameters: {0}\".format(score.parameters))\n",
    "        print(\"\")"
   ]
  },
  {
   "cell_type": "code",
   "execution_count": 94,
   "metadata": {},
   "outputs": [],
   "source": [
    "n_estimators = [200, 500]\n",
    "# min_samples_split = [5, 10]\n",
    "# min_samples_leaf = [3, 5]\n",
    "max_depth = [5, 10, None]\n",
    "\n",
    "param = {'random forest__n_estimators': n_estimators,\n",
    "         'random forest__max_depth': max_depth}\n"
   ]
  },
  {
   "cell_type": "code",
   "execution_count": 96,
   "metadata": {},
   "outputs": [
    {
     "name": "stdout",
     "output_type": "stream",
     "text": [
      "CPU times: user 4h 10min 16s, sys: 4.91 s, total: 4h 10min 21s\n",
      "Wall time: 4h 10min 16s\n"
     ]
    },
    {
     "data": {
      "text/plain": [
       "0.8463296234904096"
      ]
     },
     "execution_count": 96,
     "metadata": {},
     "output_type": "execute_result"
    }
   ],
   "source": [
    "%%time\n",
    "grid_search = GridSearchCV(forest_w2v, param_grid = param, cv = skfold, n_jobs = 1)\n",
    "grid_search.fit(X_train, y_train)\n",
    "grid_search.best_score_"
   ]
  },
  {
   "cell_type": "code",
   "execution_count": 97,
   "metadata": {},
   "outputs": [
    {
     "data": {
      "text/plain": [
       "{'random forest__max_depth': None, 'random forest__n_estimators': 500}"
      ]
     },
     "execution_count": 97,
     "metadata": {},
     "output_type": "execute_result"
    }
   ],
   "source": [
    "grid_search.best_params_"
   ]
  },
  {
   "cell_type": "markdown",
   "metadata": {},
   "source": [
    "We can just do parameter tuning, but for this dataset I have a limitation, which is the ability of the computer processing power that is not able and requires quite a long time."
   ]
  },
  {
   "cell_type": "code",
   "execution_count": 84,
   "metadata": {},
   "outputs": [],
   "source": [
    "skfold = StratifiedKFold(n_splits = 5, random_state = 42)"
   ]
  },
  {
   "cell_type": "code",
   "execution_count": 99,
   "metadata": {},
   "outputs": [
    {
     "data": {
      "image/png": "[encoded data removed]",
      "text/plain": [
       "<Figure size 432x288 with 1 Axes>"
      ]
     },
     "metadata": {
      "needs_background": "light"
     },
     "output_type": "display_data"
    },
    {
     "name": "stdout",
     "output_type": "stream",
     "text": [
      "CPU times: user 2h 44min 8s, sys: 5.44 s, total: 2h 44min 13s\n",
      "Wall time: 2h 44min 10s\n"
     ]
    },
    {
     "data": {
      "text/plain": [
       "[<matplotlib.lines.Line2D at 0x7f3e8c4a9610>]"
      ]
     },
     "execution_count": 99,
     "metadata": {},
     "output_type": "execute_result"
    }
   ],
   "source": [
    "%%time\n",
    "def learning_curve(series, name =''):\n",
    "    train_sizes, train_scores, test_scores = learning_curve(\n",
    "                                estimator = forest_w2v,\n",
    "                                X = series,\n",
    "                                y = y,\n",
    "                                train_sizes = np.linspace(0.5, 1.0, 5),\n",
    "                                cv = skfold)\n",
    "\n",
    "    train_mean = np.mean(train_scores, axis=1)\n",
    "    train_std = np.std(train_scores, axis=1)\n",
    "    test_mean = np.mean(test_scores, axis=1)\n",
    "    test_std = np.std(test_scores, axis=1)\n",
    "\n",
    "    plot = plt.plot(train_sizes, train_mean, color='red', marker='o', label='Training Accuracy')\n",
    "    \n",
    "    plt.fill_between(train_sizes,\n",
    "                train_mean + train_std,\n",
    "                train_mean - train_std,\n",
    "                alpha=0.15, color='red')\n",
    "\n",
    "\n",
    "    plt.plot(train_sizes, test_mean, color='blue', linestyle='--', marker='s', \n",
    "        label='Test Accuracy')\n",
    "    plt.fill_between(train_sizes,\n",
    "                test_mean + test_std,\n",
    "                test_mean - test_std,\n",
    "                alpha=0.15, color='blue')\n",
    "\n",
    "    plt.title('Model for '.format(name))\n",
    "    plt.xlabel('Number of training samples')\n",
    "    plt.ylabel('Accuracy')\n",
    "    plt.legend()\n",
    "    plt.show()\n",
    "    return plot\n",
    "\n",
    "learning_curve(X, name ='Comments_Meaningful')"
   ]
  },
  {
   "cell_type": "code",
   "execution_count": 100,
   "metadata": {},
   "outputs": [],
   "source": [
    "forest_w2v = Pipeline([ (\"text preprocessing\", preprocessing()),\n",
    "                        (\"word2vec vectorizer\", MeanFeatureVecs(w2v)), \n",
    "                        (\"random forest\", RandomForestClassifier(n_estimators = 200))])"
   ]
  },
  {
   "cell_type": "code",
   "execution_count": 104,
   "metadata": {},
   "outputs": [
    {
     "data": {
      "text/plain": [
       "Pipeline(memory=None,\n",
       "         steps=[('text preprocessing',\n",
       "                 <__main__.preprocessing object at 0x7f3e8c3ed5d0>),\n",
       "                ('word2vec vectorizer',\n",
       "                 <__main__.MeanFeatureVecs object at 0x7f3e8c3ed550>),\n",
       "                ('random forest',\n",
       "                 RandomForestClassifier(bootstrap=True, ccp_alpha=0.0,\n",
       "                                        class_weight=None, criterion='gini',\n",
       "                                        max_depth=None, max_features='auto',\n",
       "                                        max_leaf_nodes=None, max_samples=None,\n",
       "                                        min_impurity_decrease=0.0,\n",
       "                                        min_impurity_split=None,\n",
       "                                        min_samples_leaf=1, min_samples_split=2,\n",
       "                                        min_weight_fraction_leaf=0.0,\n",
       "                                        n_estimators=200, n_jobs=None,\n",
       "                                        oob_score=False, random_state=None,\n",
       "                                        verbose=0, warm_start=False))],\n",
       "         verbose=False)"
      ]
     },
     "execution_count": 104,
     "metadata": {},
     "output_type": "execute_result"
    }
   ],
   "source": [
    "forest_w2v.fit(newyork_reviews['comments_meaningful'], newyork_reviews['target'])"
   ]
  },
  {
   "cell_type": "code",
   "execution_count": 123,
   "metadata": {},
   "outputs": [],
   "source": [
    "pickle.dump(forest_w2v, open('model_predict_airbnb_review.pkl', 'wb'))"
   ]
  },
  {
   "cell_type": "code",
   "execution_count": 124,
   "metadata": {},
   "outputs": [
    {
     "data": {
      "text/plain": [
       "array([2])"
      ]
     },
     "execution_count": 124,
     "metadata": {},
     "output_type": "execute_result"
    }
   ],
   "source": [
    "forest_w2v.predict(['Good host and nice room'])"
   ]
  },
  {
   "cell_type": "code",
   "execution_count": 125,
   "metadata": {},
   "outputs": [
    {
     "data": {
      "text/plain": [
       "array([[0.025, 0.35 , 0.625]])"
      ]
     },
     "execution_count": 125,
     "metadata": {},
     "output_type": "execute_result"
    }
   ],
   "source": [
    "forest_w2v.predict_proba(['Good host and nice room'])"
   ]
  },
  {
   "cell_type": "code",
   "execution_count": 144,
   "metadata": {},
   "outputs": [],
   "source": [
    "def predict(text, include_neutral=True):\n",
    "    # Tokenize text\n",
    "    x_test1 = text\n",
    "    # Predict\n",
    "    score = forest_w2v.predict([x_test1])[0]\n",
    "    proba = forest_w2v.predict_proba([x_test1])[0, score]\n",
    "    score_prob = round(proba*100,2)\n",
    "    # Decode sentiment\n",
    "    label = decode_sentiment(score)\n",
    "\n",
    "    return {\"label\": label, \"score\": float(score_prob)}\n",
    "\n",
    "def decode_sentiment(score):\n",
    "    if score == 0:        \n",
    "        label = 'NEGATIVE'\n",
    "    elif score == 1:\n",
    "        label = 'NEUTRAL'\n",
    "    else:\n",
    "        label = 'POSITIVE'\n",
    "    return label"
   ]
  },
  {
   "cell_type": "code",
   "execution_count": 132,
   "metadata": {},
   "outputs": [
    {
     "data": {
      "text/plain": [
       "{'label': 'NEGATIVE', 'score': 96.5}"
      ]
     },
     "execution_count": 132,
     "metadata": {},
     "output_type": "execute_result"
    }
   ],
   "source": [
    "predict(\"bad communication\")"
   ]
  }
 ],
 "metadata": {
  "kernelspec": {
   "display_name": "Python [conda env:root] *",
   "language": "python",
   "name": "conda-root-py"
  },
  "language_info": {
   "codemirror_mode": {
    "name": "ipython",
    "version": 3
   },
   "file_extension": ".py",
   "mimetype": "text/x-python",
   "name": "python",
   "nbconvert_exporter": "python",
   "pygments_lexer": "ipython3",
   "version": "3.7.6"
  }
 },
 "nbformat": 4,
 "nbformat_minor": 4
}
