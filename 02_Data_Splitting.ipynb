{
 "cells": [
  {
   "cell_type": "code",
   "execution_count": 1,
   "metadata": {},
   "outputs": [
    {
     "name": "stderr",
     "output_type": "stream",
     "text": [
      "/home/dickyalsyah/anaconda3/lib/python3.7/site-packages/tqdm/std.py:658: FutureWarning: The Panel class is removed from pandas. Accessing it from the top-level namespace will also be removed in the next version\n",
      "  from pandas import Panel\n"
     ]
    }
   ],
   "source": [
    "import pandas as pd\n",
    "from tqdm import tqdm\n",
    "tqdm.pandas()\n",
    "from sklearn.model_selection import train_test_split"
   ]
  },
  {
   "cell_type": "markdown",
   "metadata": {},
   "source": [
    "## Load the dataset"
   ]
  },
  {
   "cell_type": "code",
   "execution_count": 2,
   "metadata": {},
   "outputs": [],
   "source": [
    "newyork_reviews = pd.read_hdf('newyork_reviews.h5', 'newyork_reviews')"
   ]
  },
  {
   "cell_type": "code",
   "execution_count": 3,
   "metadata": {},
   "outputs": [
    {
     "name": "stdout",
     "output_type": "stream",
     "text": [
      "<class 'pandas.core.frame.DataFrame'>\n",
      "Int64Index: 1225808 entries, 0 to 1226553\n",
      "Data columns (total 14 columns):\n",
      " #   Column                     Non-Null Count    Dtype         \n",
      "---  ------                     --------------    -----         \n",
      " 0   listing_id                 1225808 non-null  int64         \n",
      " 1   id                         1225808 non-null  int64         \n",
      " 2   date                       1225808 non-null  datetime64[ns]\n",
      " 3   reviewer_id                1225808 non-null  int64         \n",
      " 4   reviewer_name              1225798 non-null  object        \n",
      " 5   comments                   1225808 non-null  object        \n",
      " 6   clean_comments             1225808 non-null  object        \n",
      " 7   polarity                   1225808 non-null  float64       \n",
      " 8   sentiment                  1225808 non-null  object        \n",
      " 9   comment_length             1225808 non-null  int64         \n",
      " 10  comments_meaningful        1225808 non-null  object        \n",
      " 11  polarity_meaningful        1225808 non-null  float64       \n",
      " 12  sentiment_meaningful       1225808 non-null  object        \n",
      " 13  comment_meaningful_length  1225808 non-null  int64         \n",
      "dtypes: datetime64[ns](1), float64(2), int64(5), object(6)\n",
      "memory usage: 140.3+ MB\n"
     ]
    }
   ],
   "source": [
    "newyork_reviews.info()"
   ]
  },
  {
   "cell_type": "code",
   "execution_count": 4,
   "metadata": {},
   "outputs": [
    {
     "data": {
      "text/plain": [
       "Positive    1000314\n",
       "Neutral      199915\n",
       "Negative      25579\n",
       "Name: sentiment_meaningful, dtype: int64"
      ]
     },
     "execution_count": 4,
     "metadata": {},
     "output_type": "execute_result"
    }
   ],
   "source": [
    "newyork_reviews['sentiment_meaningful'].value_counts()"
   ]
  },
  {
   "cell_type": "code",
   "execution_count": 5,
   "metadata": {},
   "outputs": [
    {
     "name": "stderr",
     "output_type": "stream",
     "text": [
      "100%|██████████| 1225808/1225808 [00:01<00:00, 897815.82it/s] \n"
     ]
    }
   ],
   "source": [
    "def labels(sentiment):\n",
    "    if sentiment == 'Positive':\n",
    "        return 2\n",
    "    elif sentiment == 'Neutral':\n",
    "        return 1\n",
    "    else:\n",
    "        return 0\n",
    "    \n",
    "newyork_reviews['target'] = newyork_reviews['sentiment_meaningful'].progress_apply(labels)"
   ]
  },
  {
   "cell_type": "code",
   "execution_count": 6,
   "metadata": {},
   "outputs": [],
   "source": [
    "newyork_reviews.dropna(inplace = True)"
   ]
  },
  {
   "cell_type": "code",
   "execution_count": 7,
   "metadata": {},
   "outputs": [
    {
     "name": "stdout",
     "output_type": "stream",
     "text": [
      "<class 'pandas.core.frame.DataFrame'>\n",
      "Int64Index: 1225798 entries, 0 to 1226553\n",
      "Data columns (total 15 columns):\n",
      " #   Column                     Non-Null Count    Dtype         \n",
      "---  ------                     --------------    -----         \n",
      " 0   listing_id                 1225798 non-null  int64         \n",
      " 1   id                         1225798 non-null  int64         \n",
      " 2   date                       1225798 non-null  datetime64[ns]\n",
      " 3   reviewer_id                1225798 non-null  int64         \n",
      " 4   reviewer_name              1225798 non-null  object        \n",
      " 5   comments                   1225798 non-null  object        \n",
      " 6   clean_comments             1225798 non-null  object        \n",
      " 7   polarity                   1225798 non-null  float64       \n",
      " 8   sentiment                  1225798 non-null  object        \n",
      " 9   comment_length             1225798 non-null  int64         \n",
      " 10  comments_meaningful        1225798 non-null  object        \n",
      " 11  polarity_meaningful        1225798 non-null  float64       \n",
      " 12  sentiment_meaningful       1225798 non-null  object        \n",
      " 13  comment_meaningful_length  1225798 non-null  int64         \n",
      " 14  target                     1225798 non-null  int64         \n",
      "dtypes: datetime64[ns](1), float64(2), int64(6), object(6)\n",
      "memory usage: 149.6+ MB\n"
     ]
    }
   ],
   "source": [
    "newyork_reviews.info()"
   ]
  },
  {
   "cell_type": "code",
   "execution_count": 8,
   "metadata": {},
   "outputs": [],
   "source": [
    "data_split = {}"
   ]
  },
  {
   "cell_type": "code",
   "execution_count": 9,
   "metadata": {},
   "outputs": [
    {
     "data": {
      "text/plain": [
       "25579"
      ]
     },
     "execution_count": 9,
     "metadata": {},
     "output_type": "execute_result"
    }
   ],
   "source": [
    "x0 = newyork_reviews[newyork_reviews['target'] == 0]\n",
    "data_split[0] = x0\n",
    "len(x0)"
   ]
  },
  {
   "cell_type": "code",
   "execution_count": 10,
   "metadata": {},
   "outputs": [
    {
     "name": "stdout",
     "output_type": "stream",
     "text": [
      "39983 39983\n"
     ]
    }
   ],
   "source": [
    "x1 = newyork_reviews[newyork_reviews['target'] == 1].drop('target', axis =1)\n",
    "y1 = newyork_reviews[newyork_reviews['target'] == 1]['target']\n",
    "\n",
    "x1_train, x1_test, y1_train, y1_test = train_test_split(x1, y1, test_size = 0.2, random_state=42)\n",
    "data_split[1] = pd.concat([x1_test, y1_test], axis = 1)\n",
    "\n",
    "print(len(x1_test), len(y1_test))"
   ]
  },
  {
   "cell_type": "code",
   "execution_count": 11,
   "metadata": {},
   "outputs": [
    {
     "name": "stdout",
     "output_type": "stream",
     "text": [
      "40013 40013\n"
     ]
    }
   ],
   "source": [
    "x2 = newyork_reviews[newyork_reviews['target'] == 2].drop('target', axis =1)\n",
    "y2 = newyork_reviews[newyork_reviews['target'] == 2]['target']\n",
    "\n",
    "x2_train, x2_test, y2_train, y2_test = train_test_split(x2, y2,test_size = 0.04, random_state=42)\n",
    "data_split[2] = pd.concat([x2_test, y2_test], axis = 1)\n",
    "\n",
    "print(len(x2_test), len(y2_test))"
   ]
  },
  {
   "cell_type": "code",
   "execution_count": 12,
   "metadata": {},
   "outputs": [],
   "source": [
    "data_train = pd.concat([data_split[0], data_split[1], data_split[2]])"
   ]
  },
  {
   "cell_type": "code",
   "execution_count": 13,
   "metadata": {},
   "outputs": [
    {
     "name": "stdout",
     "output_type": "stream",
     "text": [
      "<class 'pandas.core.frame.DataFrame'>\n",
      "Int64Index: 105575 entries, 122 to 1048949\n",
      "Data columns (total 15 columns):\n",
      " #   Column                     Non-Null Count   Dtype         \n",
      "---  ------                     --------------   -----         \n",
      " 0   listing_id                 105575 non-null  int64         \n",
      " 1   id                         105575 non-null  int64         \n",
      " 2   date                       105575 non-null  datetime64[ns]\n",
      " 3   reviewer_id                105575 non-null  int64         \n",
      " 4   reviewer_name              105575 non-null  object        \n",
      " 5   comments                   105575 non-null  object        \n",
      " 6   clean_comments             105575 non-null  object        \n",
      " 7   polarity                   105575 non-null  float64       \n",
      " 8   sentiment                  105575 non-null  object        \n",
      " 9   comment_length             105575 non-null  int64         \n",
      " 10  comments_meaningful        105575 non-null  object        \n",
      " 11  polarity_meaningful        105575 non-null  float64       \n",
      " 12  sentiment_meaningful       105575 non-null  object        \n",
      " 13  comment_meaningful_length  105575 non-null  int64         \n",
      " 14  target                     105575 non-null  int64         \n",
      "dtypes: datetime64[ns](1), float64(2), int64(6), object(6)\n",
      "memory usage: 12.9+ MB\n"
     ]
    }
   ],
   "source": [
    "data_train.info()"
   ]
  },
  {
   "cell_type": "code",
   "execution_count": 14,
   "metadata": {},
   "outputs": [
    {
     "data": {
      "text/plain": [
       "Positive    40013\n",
       "Neutral     39983\n",
       "Negative    25579\n",
       "Name: sentiment_meaningful, dtype: int64"
      ]
     },
     "execution_count": 14,
     "metadata": {},
     "output_type": "execute_result"
    }
   ],
   "source": [
    "data_train['sentiment_meaningful'].value_counts()"
   ]
  },
  {
   "cell_type": "code",
   "execution_count": 15,
   "metadata": {},
   "outputs": [],
   "source": [
    "data_train.to_hdf('newyork_reviews_split.h5', 'newyork_reviews_split', mode = 'w')"
   ]
  }
 ],
 "metadata": {
  "kernelspec": {
   "display_name": "Python [conda env:root] *",
   "language": "python",
   "name": "conda-root-py"
  },
  "language_info": {
   "codemirror_mode": {
    "name": "ipython",
    "version": 3
   },
   "file_extension": ".py",
   "mimetype": "text/x-python",
   "name": "python",
   "nbconvert_exporter": "python",
   "pygments_lexer": "ipython3",
   "version": "3.7.6"
  }
 },
 "nbformat": 4,
 "nbformat_minor": 4
}
